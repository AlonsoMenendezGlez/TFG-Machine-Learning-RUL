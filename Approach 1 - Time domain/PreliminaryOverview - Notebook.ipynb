{
  "nbformat": 4,
  "nbformat_minor": 0,
  "metadata": {
    "colab": {
      "provenance": [],
      "collapsed_sections": [
        "UMRn6cq8aRzF",
        "L5xE9ntmak5x"
      ]
    },
    "kernelspec": {
      "name": "python3",
      "display_name": "Python 3"
    },
    "language_info": {
      "name": "python"
    }
  },
  "cells": [
    {
      "cell_type": "markdown",
      "source": [
        "# Imports"
      ],
      "metadata": {
        "id": "nCYSeBT_zr0p"
      }
    },
    {
      "cell_type": "code",
      "source": [
        "# importing packages\n",
        "import pandas as pd\n",
        "import glob\n",
        "import numpy as np\n",
        "import scipy as sp\n",
        "from scipy.stats import kurtosis, skew\n",
        "# Importing matplotlib to plot the graphs.\n",
        "import matplotlib.pyplot as plt\n",
        "\n"
      ],
      "metadata": {
        "id": "OIVf9YQ3zrau"
      },
      "execution_count": null,
      "outputs": []
    },
    {
      "cell_type": "markdown",
      "source": [
        "# File formatting\n",
        "Gathers the files in the folder to a dataframe, to then save it to a csv."
      ],
      "metadata": {
        "id": "UMRn6cq8aRzF"
      }
    },
    {
      "cell_type": "code",
      "source": [
        "folder_path = '/content/drive/MyDrive/Colab Notebooks/TFG/Trasteo/10Archivos'\n",
        "file_list_10 = glob.glob(folder_path + \"/*\")\n",
        "main_dataframe = pd.DataFrame(pd.read_table(file_list_10[0], header = None))\n",
        "\n",
        "for i in range(1,len(file_list_10)):\n",
        "\tdata = pd.read_table(file_list_10[i], header = None)\n",
        "\tdf = pd.DataFrame(data)\n",
        "\tmain_dataframe = pd.concat([main_dataframe, df] )#, axis = 1)\n",
        "\n",
        "filenames = []\n",
        "for path in file_list_10:\n",
        "  filenames.append(path.split(\"/\")[-1])\n",
        "\n",
        "print(main_dataframe)"
      ],
      "metadata": {
        "colab": {
          "base_uri": "https://localhost:8080/"
        },
        "id": "gBu9ZunAXrhr",
        "outputId": "b23b4eb6-3f29-476e-90bc-64830590b5d9"
      },
      "execution_count": null,
      "outputs": [
        {
          "output_type": "stream",
          "name": "stdout",
          "text": [
            "           0      1      2      3      4      5      6      7\n",
            "0     -0.022 -0.039 -0.183 -0.054 -0.105 -0.134 -0.129 -0.142\n",
            "1     -0.105 -0.017 -0.164 -0.183 -0.049  0.029 -0.115 -0.122\n",
            "2     -0.183 -0.098 -0.195 -0.125 -0.005 -0.007 -0.171 -0.071\n",
            "3     -0.178 -0.161 -0.159 -0.178 -0.100 -0.115 -0.112 -0.078\n",
            "4     -0.208 -0.129 -0.261 -0.098 -0.151 -0.205 -0.063 -0.066\n",
            "...      ...    ...    ...    ...    ...    ...    ...    ...\n",
            "20475 -0.142 -0.090  0.059 -0.049 -0.051 -0.010 -0.039  0.022\n",
            "20476 -0.059 -0.178  0.005 -0.073  0.022 -0.212 -0.063 -0.037\n",
            "20477 -0.076 -0.156 -0.151 -0.110 -0.007 -0.200 -0.059 -0.022\n",
            "20478 -0.139 -0.046 -0.176 -0.081 -0.176 -0.142 -0.066  0.017\n",
            "20479 -0.229  0.054 -0.225 -0.144 -0.054 -0.068 -0.078 -0.007\n",
            "\n",
            "[204800 rows x 8 columns]\n"
          ]
        }
      ]
    },
    {
      "cell_type": "code",
      "source": [
        "file_list_10[0].split(\"/\")[-1]"
      ],
      "metadata": {
        "colab": {
          "base_uri": "https://localhost:8080/"
        },
        "id": "hL1_EtaHo-VY",
        "outputId": "eb4924bb-9e3c-496d-fdf5-24a0b009e327"
      },
      "execution_count": null,
      "outputs": [
        {
          "output_type": "execute_result",
          "data": {
            "text/plain": [
              "'2003.10.22.12.06.24'"
            ],
            "application/vnd.google.colaboratory.intrinsic+json": {
              "type": "string"
            }
          },
          "metadata": {},
          "execution_count": 3
        }
      ]
    },
    {
      "cell_type": "code",
      "source": [
        "filenames"
      ],
      "metadata": {
        "colab": {
          "base_uri": "https://localhost:8080/"
        },
        "id": "CSW-6Y3Gp1Fu",
        "outputId": "a29f6706-248f-42e3-dba1-8d8bd23003ed"
      },
      "execution_count": null,
      "outputs": [
        {
          "output_type": "execute_result",
          "data": {
            "text/plain": [
              "['2003.10.22.12.06.24',\n",
              " '2003.10.22.12.09.13',\n",
              " '2003.10.22.12.14.13',\n",
              " '2003.10.22.12.19.13',\n",
              " '2003.10.22.12.24.13',\n",
              " '2003.10.22.12.34.13',\n",
              " '2003.10.22.12.29.13',\n",
              " '2003.10.22.12.39.13',\n",
              " '2003.10.22.12.44.13',\n",
              " '2003.10.22.12.49.13']"
            ]
          },
          "metadata": {},
          "execution_count": 4
        }
      ]
    },
    {
      "cell_type": "code",
      "execution_count": null,
      "metadata": {
        "id": "6bwTHvCsvlKZ"
      },
      "outputs": [],
      "source": [
        "\n",
        "\n"
      ]
    },
    {
      "cell_type": "code",
      "source": [
        "folder_path = '/content/drive/MyDrive/Colab Notebooks/TFG/Trasteo/5archivosfinal'\n",
        "file_list = glob.glob(folder_path + \"/*\")\n",
        "last_df = pd.DataFrame(pd.read_table(file_list[0], header = None))\n",
        "\n",
        "for i in range(1,len(file_list)):\n",
        "\tdata = pd.read_table(file_list[i], header = None)\n",
        "\tdf = pd.DataFrame(data)\n",
        "\tlast_df = pd.concat([last_df, df] )#, axis = 1)\n",
        "\n",
        "print(last_df)"
      ],
      "metadata": {
        "colab": {
          "base_uri": "https://localhost:8080/"
        },
        "id": "Hm7Y0EAWs2bs",
        "outputId": "8c18f91a-4bfe-400d-9fc8-a4bfa9d875f8"
      },
      "execution_count": null,
      "outputs": [
        {
          "output_type": "stream",
          "name": "stdout",
          "text": [
            "           0      1      2      3      4      5      6      7\n",
            "0     -0.071 -0.117 -0.295 -0.471  0.132 -0.144 -0.173 -0.020\n",
            "1     -0.066 -0.068 -0.063 -0.417 -0.271 -0.107 -0.078 -0.081\n",
            "2     -0.078 -0.154 -0.193 -0.122 -0.254 -0.154  0.034 -0.107\n",
            "3     -0.146 -0.222 -0.320  0.037  0.205 -0.349  0.090 -0.093\n",
            "4     -0.083 -0.330 -0.088 -0.176 -0.417  0.103 -0.061 -0.190\n",
            "...      ...    ...    ...    ...    ...    ...    ...    ...\n",
            "20475  0.051 -0.393 -0.361 -0.562 -0.195  0.151 -0.022 -0.115\n",
            "20476  0.159 -0.186 -0.117 -0.391 -0.227  0.276  0.007 -0.188\n",
            "20477 -0.193  0.186  0.264 -0.156 -0.095  0.513 -0.078 -0.251\n",
            "20478 -0.432 -0.046  0.017 -0.105 -0.115 -0.012 -0.117 -0.254\n",
            "20479 -0.022 -0.361 -0.327 -0.190 -0.293  0.288 -0.227 -0.420\n",
            "\n",
            "[102400 rows x 8 columns]\n"
          ]
        }
      ]
    },
    {
      "cell_type": "code",
      "source": [
        "main_dataframe"
      ],
      "metadata": {
        "colab": {
          "base_uri": "https://localhost:8080/"
        },
        "id": "oe-plfdq3PqA",
        "outputId": "932939df-f1cc-4eeb-dea1-b00d1b62951b"
      },
      "execution_count": null,
      "outputs": [
        {
          "output_type": "execute_result",
          "data": {
            "text/plain": [
              "           0      1      2      3      4      5      6      7\n",
              "0     -0.022 -0.039 -0.183 -0.054 -0.105 -0.134 -0.129 -0.142\n",
              "1     -0.105 -0.017 -0.164 -0.183 -0.049  0.029 -0.115 -0.122\n",
              "2     -0.183 -0.098 -0.195 -0.125 -0.005 -0.007 -0.171 -0.071\n",
              "3     -0.178 -0.161 -0.159 -0.178 -0.100 -0.115 -0.112 -0.078\n",
              "4     -0.208 -0.129 -0.261 -0.098 -0.151 -0.205 -0.063 -0.066\n",
              "...      ...    ...    ...    ...    ...    ...    ...    ...\n",
              "20475 -0.142 -0.090  0.059 -0.049 -0.051 -0.010 -0.039  0.022\n",
              "20476 -0.059 -0.178  0.005 -0.073  0.022 -0.212 -0.063 -0.037\n",
              "20477 -0.076 -0.156 -0.151 -0.110 -0.007 -0.200 -0.059 -0.022\n",
              "20478 -0.139 -0.046 -0.176 -0.081 -0.176 -0.142 -0.066  0.017\n",
              "20479 -0.229  0.054 -0.225 -0.144 -0.054 -0.068 -0.078 -0.007\n",
              "\n",
              "[204800 rows x 8 columns]"
            ],
            "text/html": [
              "\n",
              "  <div id=\"df-eb73b80c-f3ea-40a5-b7a0-ab867fbd1937\">\n",
              "    <div class=\"colab-df-container\">\n",
              "      <div>\n",
              "<style scoped>\n",
              "    .dataframe tbody tr th:only-of-type {\n",
              "        vertical-align: middle;\n",
              "    }\n",
              "\n",
              "    .dataframe tbody tr th {\n",
              "        vertical-align: top;\n",
              "    }\n",
              "\n",
              "    .dataframe thead th {\n",
              "        text-align: right;\n",
              "    }\n",
              "</style>\n",
              "<table border=\"1\" class=\"dataframe\">\n",
              "  <thead>\n",
              "    <tr style=\"text-align: right;\">\n",
              "      <th></th>\n",
              "      <th>0</th>\n",
              "      <th>1</th>\n",
              "      <th>2</th>\n",
              "      <th>3</th>\n",
              "      <th>4</th>\n",
              "      <th>5</th>\n",
              "      <th>6</th>\n",
              "      <th>7</th>\n",
              "    </tr>\n",
              "  </thead>\n",
              "  <tbody>\n",
              "    <tr>\n",
              "      <th>0</th>\n",
              "      <td>-0.022</td>\n",
              "      <td>-0.039</td>\n",
              "      <td>-0.183</td>\n",
              "      <td>-0.054</td>\n",
              "      <td>-0.105</td>\n",
              "      <td>-0.134</td>\n",
              "      <td>-0.129</td>\n",
              "      <td>-0.142</td>\n",
              "    </tr>\n",
              "    <tr>\n",
              "      <th>1</th>\n",
              "      <td>-0.105</td>\n",
              "      <td>-0.017</td>\n",
              "      <td>-0.164</td>\n",
              "      <td>-0.183</td>\n",
              "      <td>-0.049</td>\n",
              "      <td>0.029</td>\n",
              "      <td>-0.115</td>\n",
              "      <td>-0.122</td>\n",
              "    </tr>\n",
              "    <tr>\n",
              "      <th>2</th>\n",
              "      <td>-0.183</td>\n",
              "      <td>-0.098</td>\n",
              "      <td>-0.195</td>\n",
              "      <td>-0.125</td>\n",
              "      <td>-0.005</td>\n",
              "      <td>-0.007</td>\n",
              "      <td>-0.171</td>\n",
              "      <td>-0.071</td>\n",
              "    </tr>\n",
              "    <tr>\n",
              "      <th>3</th>\n",
              "      <td>-0.178</td>\n",
              "      <td>-0.161</td>\n",
              "      <td>-0.159</td>\n",
              "      <td>-0.178</td>\n",
              "      <td>-0.100</td>\n",
              "      <td>-0.115</td>\n",
              "      <td>-0.112</td>\n",
              "      <td>-0.078</td>\n",
              "    </tr>\n",
              "    <tr>\n",
              "      <th>4</th>\n",
              "      <td>-0.208</td>\n",
              "      <td>-0.129</td>\n",
              "      <td>-0.261</td>\n",
              "      <td>-0.098</td>\n",
              "      <td>-0.151</td>\n",
              "      <td>-0.205</td>\n",
              "      <td>-0.063</td>\n",
              "      <td>-0.066</td>\n",
              "    </tr>\n",
              "    <tr>\n",
              "      <th>...</th>\n",
              "      <td>...</td>\n",
              "      <td>...</td>\n",
              "      <td>...</td>\n",
              "      <td>...</td>\n",
              "      <td>...</td>\n",
              "      <td>...</td>\n",
              "      <td>...</td>\n",
              "      <td>...</td>\n",
              "    </tr>\n",
              "    <tr>\n",
              "      <th>20475</th>\n",
              "      <td>-0.142</td>\n",
              "      <td>-0.090</td>\n",
              "      <td>0.059</td>\n",
              "      <td>-0.049</td>\n",
              "      <td>-0.051</td>\n",
              "      <td>-0.010</td>\n",
              "      <td>-0.039</td>\n",
              "      <td>0.022</td>\n",
              "    </tr>\n",
              "    <tr>\n",
              "      <th>20476</th>\n",
              "      <td>-0.059</td>\n",
              "      <td>-0.178</td>\n",
              "      <td>0.005</td>\n",
              "      <td>-0.073</td>\n",
              "      <td>0.022</td>\n",
              "      <td>-0.212</td>\n",
              "      <td>-0.063</td>\n",
              "      <td>-0.037</td>\n",
              "    </tr>\n",
              "    <tr>\n",
              "      <th>20477</th>\n",
              "      <td>-0.076</td>\n",
              "      <td>-0.156</td>\n",
              "      <td>-0.151</td>\n",
              "      <td>-0.110</td>\n",
              "      <td>-0.007</td>\n",
              "      <td>-0.200</td>\n",
              "      <td>-0.059</td>\n",
              "      <td>-0.022</td>\n",
              "    </tr>\n",
              "    <tr>\n",
              "      <th>20478</th>\n",
              "      <td>-0.139</td>\n",
              "      <td>-0.046</td>\n",
              "      <td>-0.176</td>\n",
              "      <td>-0.081</td>\n",
              "      <td>-0.176</td>\n",
              "      <td>-0.142</td>\n",
              "      <td>-0.066</td>\n",
              "      <td>0.017</td>\n",
              "    </tr>\n",
              "    <tr>\n",
              "      <th>20479</th>\n",
              "      <td>-0.229</td>\n",
              "      <td>0.054</td>\n",
              "      <td>-0.225</td>\n",
              "      <td>-0.144</td>\n",
              "      <td>-0.054</td>\n",
              "      <td>-0.068</td>\n",
              "      <td>-0.078</td>\n",
              "      <td>-0.007</td>\n",
              "    </tr>\n",
              "  </tbody>\n",
              "</table>\n",
              "<p>204800 rows × 8 columns</p>\n",
              "</div>\n",
              "      <button class=\"colab-df-convert\" onclick=\"convertToInteractive('df-eb73b80c-f3ea-40a5-b7a0-ab867fbd1937')\"\n",
              "              title=\"Convert this dataframe to an interactive table.\"\n",
              "              style=\"display:none;\">\n",
              "        \n",
              "  <svg xmlns=\"http://www.w3.org/2000/svg\" height=\"24px\"viewBox=\"0 0 24 24\"\n",
              "       width=\"24px\">\n",
              "    <path d=\"M0 0h24v24H0V0z\" fill=\"none\"/>\n",
              "    <path d=\"M18.56 5.44l.94 2.06.94-2.06 2.06-.94-2.06-.94-.94-2.06-.94 2.06-2.06.94zm-11 1L8.5 8.5l.94-2.06 2.06-.94-2.06-.94L8.5 2.5l-.94 2.06-2.06.94zm10 10l.94 2.06.94-2.06 2.06-.94-2.06-.94-.94-2.06-.94 2.06-2.06.94z\"/><path d=\"M17.41 7.96l-1.37-1.37c-.4-.4-.92-.59-1.43-.59-.52 0-1.04.2-1.43.59L10.3 9.45l-7.72 7.72c-.78.78-.78 2.05 0 2.83L4 21.41c.39.39.9.59 1.41.59.51 0 1.02-.2 1.41-.59l7.78-7.78 2.81-2.81c.8-.78.8-2.07 0-2.86zM5.41 20L4 18.59l7.72-7.72 1.47 1.35L5.41 20z\"/>\n",
              "  </svg>\n",
              "      </button>\n",
              "      \n",
              "  <style>\n",
              "    .colab-df-container {\n",
              "      display:flex;\n",
              "      flex-wrap:wrap;\n",
              "      gap: 12px;\n",
              "    }\n",
              "\n",
              "    .colab-df-convert {\n",
              "      background-color: #E8F0FE;\n",
              "      border: none;\n",
              "      border-radius: 50%;\n",
              "      cursor: pointer;\n",
              "      display: none;\n",
              "      fill: #1967D2;\n",
              "      height: 32px;\n",
              "      padding: 0 0 0 0;\n",
              "      width: 32px;\n",
              "    }\n",
              "\n",
              "    .colab-df-convert:hover {\n",
              "      background-color: #E2EBFA;\n",
              "      box-shadow: 0px 1px 2px rgba(60, 64, 67, 0.3), 0px 1px 3px 1px rgba(60, 64, 67, 0.15);\n",
              "      fill: #174EA6;\n",
              "    }\n",
              "\n",
              "    [theme=dark] .colab-df-convert {\n",
              "      background-color: #3B4455;\n",
              "      fill: #D2E3FC;\n",
              "    }\n",
              "\n",
              "    [theme=dark] .colab-df-convert:hover {\n",
              "      background-color: #434B5C;\n",
              "      box-shadow: 0px 1px 3px 1px rgba(0, 0, 0, 0.15);\n",
              "      filter: drop-shadow(0px 1px 2px rgba(0, 0, 0, 0.3));\n",
              "      fill: #FFFFFF;\n",
              "    }\n",
              "  </style>\n",
              "\n",
              "      <script>\n",
              "        const buttonEl =\n",
              "          document.querySelector('#df-eb73b80c-f3ea-40a5-b7a0-ab867fbd1937 button.colab-df-convert');\n",
              "        buttonEl.style.display =\n",
              "          google.colab.kernel.accessAllowed ? 'block' : 'none';\n",
              "\n",
              "        async function convertToInteractive(key) {\n",
              "          const element = document.querySelector('#df-eb73b80c-f3ea-40a5-b7a0-ab867fbd1937');\n",
              "          const dataTable =\n",
              "            await google.colab.kernel.invokeFunction('convertToInteractive',\n",
              "                                                     [key], {});\n",
              "          if (!dataTable) return;\n",
              "\n",
              "          const docLinkHtml = 'Like what you see? Visit the ' +\n",
              "            '<a target=\"_blank\" href=https://colab.research.google.com/notebooks/data_table.ipynb>data table notebook</a>'\n",
              "            + ' to learn more about interactive tables.';\n",
              "          element.innerHTML = '';\n",
              "          dataTable['output_type'] = 'display_data';\n",
              "          await google.colab.output.renderOutput(dataTable, element);\n",
              "          const docLink = document.createElement('div');\n",
              "          docLink.innerHTML = docLinkHtml;\n",
              "          element.appendChild(docLink);\n",
              "        }\n",
              "      </script>\n",
              "    </div>\n",
              "  </div>\n",
              "  "
            ]
          },
          "metadata": {},
          "execution_count": 6
        }
      ]
    },
    {
      "cell_type": "code",
      "source": [
        "# main_dataframe.to_csv(\"/content/drive/MyDrive/Colab Notebooks/TFG/Trasteo/10Archivos.csv\")"
      ],
      "metadata": {
        "id": "nvDo3StdZHBF"
      },
      "execution_count": null,
      "outputs": []
    },
    {
      "cell_type": "markdown",
      "source": [
        "Reads the files in the directory given in the path argument.\n",
        "Returns a dataframe with all the info and a list with the filenames\n",
        "\n",
        "Notice that several rows have the same index. At first seems odd, but could be useful"
      ],
      "metadata": {
        "id": "1CzDuDcWTr2Y"
      }
    },
    {
      "cell_type": "code",
      "source": [
        "def readFiles(folderpath):\n",
        "  folder_path = folderpath\n",
        "  file_list = glob.glob(folder_path + \"/*\")\n",
        "  res_dataframe = pd.DataFrame(pd.read_table(file_list[0], header = None))\n",
        "\n",
        "  for i in range(1,len(file_list)):\n",
        "    data = pd.read_table(file_list[i], header = None)\n",
        "    df = pd.DataFrame(data)\n",
        "    res_dataframe = pd.concat([res_dataframe, df] )#, axis = 1)\n",
        "\n",
        "  names = []\n",
        "  for path in file_list:\n",
        "    names.append(path.split(\"/\")[-1])\n",
        "\n",
        "  return res_dataframe, names"
      ],
      "metadata": {
        "id": "yWaZHoJjTlvA"
      },
      "execution_count": null,
      "outputs": []
    },
    {
      "cell_type": "code",
      "source": [
        "res_df, fnames = readFiles('/content/drive/MyDrive/Colab Notebooks/TFG/Trasteo/5archivosfinal')"
      ],
      "metadata": {
        "id": "nBzYAZPNVOCH"
      },
      "execution_count": null,
      "outputs": []
    },
    {
      "cell_type": "code",
      "source": [
        "res_df.loc[20470]"
      ],
      "metadata": {
        "colab": {
          "base_uri": "https://localhost:8080/"
        },
        "id": "cxHMKndfVV-v",
        "outputId": "860e8411-c380-4321-c19c-4dbd48b51fe2"
      },
      "execution_count": null,
      "outputs": [
        {
          "output_type": "execute_result",
          "data": {
            "text/plain": [
              "           0      1      2      3      4      5      6      7\n",
              "20470 -0.012 -0.085 -0.049 -0.085  0.105 -0.779 -0.273 -0.239\n",
              "20470 -0.015 -0.010  0.159 -0.078 -0.042 -0.049 -0.176 -0.105\n",
              "20470 -0.105  0.098 -0.061 -0.137  0.100  0.115 -0.039 -0.085\n",
              "20470 -0.144  0.000 -0.117  0.005 -0.344 -0.161 -0.078 -0.251\n",
              "20470 -0.068 -0.098 -0.374 -0.071  0.164 -0.249 -0.273 -0.349"
            ],
            "text/html": [
              "\n",
              "  <div id=\"df-27ccb721-8906-46c4-ac6e-84f617491427\">\n",
              "    <div class=\"colab-df-container\">\n",
              "      <div>\n",
              "<style scoped>\n",
              "    .dataframe tbody tr th:only-of-type {\n",
              "        vertical-align: middle;\n",
              "    }\n",
              "\n",
              "    .dataframe tbody tr th {\n",
              "        vertical-align: top;\n",
              "    }\n",
              "\n",
              "    .dataframe thead th {\n",
              "        text-align: right;\n",
              "    }\n",
              "</style>\n",
              "<table border=\"1\" class=\"dataframe\">\n",
              "  <thead>\n",
              "    <tr style=\"text-align: right;\">\n",
              "      <th></th>\n",
              "      <th>0</th>\n",
              "      <th>1</th>\n",
              "      <th>2</th>\n",
              "      <th>3</th>\n",
              "      <th>4</th>\n",
              "      <th>5</th>\n",
              "      <th>6</th>\n",
              "      <th>7</th>\n",
              "    </tr>\n",
              "  </thead>\n",
              "  <tbody>\n",
              "    <tr>\n",
              "      <th>20470</th>\n",
              "      <td>-0.012</td>\n",
              "      <td>-0.085</td>\n",
              "      <td>-0.049</td>\n",
              "      <td>-0.085</td>\n",
              "      <td>0.105</td>\n",
              "      <td>-0.779</td>\n",
              "      <td>-0.273</td>\n",
              "      <td>-0.239</td>\n",
              "    </tr>\n",
              "    <tr>\n",
              "      <th>20470</th>\n",
              "      <td>-0.015</td>\n",
              "      <td>-0.010</td>\n",
              "      <td>0.159</td>\n",
              "      <td>-0.078</td>\n",
              "      <td>-0.042</td>\n",
              "      <td>-0.049</td>\n",
              "      <td>-0.176</td>\n",
              "      <td>-0.105</td>\n",
              "    </tr>\n",
              "    <tr>\n",
              "      <th>20470</th>\n",
              "      <td>-0.105</td>\n",
              "      <td>0.098</td>\n",
              "      <td>-0.061</td>\n",
              "      <td>-0.137</td>\n",
              "      <td>0.100</td>\n",
              "      <td>0.115</td>\n",
              "      <td>-0.039</td>\n",
              "      <td>-0.085</td>\n",
              "    </tr>\n",
              "    <tr>\n",
              "      <th>20470</th>\n",
              "      <td>-0.144</td>\n",
              "      <td>0.000</td>\n",
              "      <td>-0.117</td>\n",
              "      <td>0.005</td>\n",
              "      <td>-0.344</td>\n",
              "      <td>-0.161</td>\n",
              "      <td>-0.078</td>\n",
              "      <td>-0.251</td>\n",
              "    </tr>\n",
              "    <tr>\n",
              "      <th>20470</th>\n",
              "      <td>-0.068</td>\n",
              "      <td>-0.098</td>\n",
              "      <td>-0.374</td>\n",
              "      <td>-0.071</td>\n",
              "      <td>0.164</td>\n",
              "      <td>-0.249</td>\n",
              "      <td>-0.273</td>\n",
              "      <td>-0.349</td>\n",
              "    </tr>\n",
              "  </tbody>\n",
              "</table>\n",
              "</div>\n",
              "      <button class=\"colab-df-convert\" onclick=\"convertToInteractive('df-27ccb721-8906-46c4-ac6e-84f617491427')\"\n",
              "              title=\"Convert this dataframe to an interactive table.\"\n",
              "              style=\"display:none;\">\n",
              "        \n",
              "  <svg xmlns=\"http://www.w3.org/2000/svg\" height=\"24px\"viewBox=\"0 0 24 24\"\n",
              "       width=\"24px\">\n",
              "    <path d=\"M0 0h24v24H0V0z\" fill=\"none\"/>\n",
              "    <path d=\"M18.56 5.44l.94 2.06.94-2.06 2.06-.94-2.06-.94-.94-2.06-.94 2.06-2.06.94zm-11 1L8.5 8.5l.94-2.06 2.06-.94-2.06-.94L8.5 2.5l-.94 2.06-2.06.94zm10 10l.94 2.06.94-2.06 2.06-.94-2.06-.94-.94-2.06-.94 2.06-2.06.94z\"/><path d=\"M17.41 7.96l-1.37-1.37c-.4-.4-.92-.59-1.43-.59-.52 0-1.04.2-1.43.59L10.3 9.45l-7.72 7.72c-.78.78-.78 2.05 0 2.83L4 21.41c.39.39.9.59 1.41.59.51 0 1.02-.2 1.41-.59l7.78-7.78 2.81-2.81c.8-.78.8-2.07 0-2.86zM5.41 20L4 18.59l7.72-7.72 1.47 1.35L5.41 20z\"/>\n",
              "  </svg>\n",
              "      </button>\n",
              "      \n",
              "  <style>\n",
              "    .colab-df-container {\n",
              "      display:flex;\n",
              "      flex-wrap:wrap;\n",
              "      gap: 12px;\n",
              "    }\n",
              "\n",
              "    .colab-df-convert {\n",
              "      background-color: #E8F0FE;\n",
              "      border: none;\n",
              "      border-radius: 50%;\n",
              "      cursor: pointer;\n",
              "      display: none;\n",
              "      fill: #1967D2;\n",
              "      height: 32px;\n",
              "      padding: 0 0 0 0;\n",
              "      width: 32px;\n",
              "    }\n",
              "\n",
              "    .colab-df-convert:hover {\n",
              "      background-color: #E2EBFA;\n",
              "      box-shadow: 0px 1px 2px rgba(60, 64, 67, 0.3), 0px 1px 3px 1px rgba(60, 64, 67, 0.15);\n",
              "      fill: #174EA6;\n",
              "    }\n",
              "\n",
              "    [theme=dark] .colab-df-convert {\n",
              "      background-color: #3B4455;\n",
              "      fill: #D2E3FC;\n",
              "    }\n",
              "\n",
              "    [theme=dark] .colab-df-convert:hover {\n",
              "      background-color: #434B5C;\n",
              "      box-shadow: 0px 1px 3px 1px rgba(0, 0, 0, 0.15);\n",
              "      filter: drop-shadow(0px 1px 2px rgba(0, 0, 0, 0.3));\n",
              "      fill: #FFFFFF;\n",
              "    }\n",
              "  </style>\n",
              "\n",
              "      <script>\n",
              "        const buttonEl =\n",
              "          document.querySelector('#df-27ccb721-8906-46c4-ac6e-84f617491427 button.colab-df-convert');\n",
              "        buttonEl.style.display =\n",
              "          google.colab.kernel.accessAllowed ? 'block' : 'none';\n",
              "\n",
              "        async function convertToInteractive(key) {\n",
              "          const element = document.querySelector('#df-27ccb721-8906-46c4-ac6e-84f617491427');\n",
              "          const dataTable =\n",
              "            await google.colab.kernel.invokeFunction('convertToInteractive',\n",
              "                                                     [key], {});\n",
              "          if (!dataTable) return;\n",
              "\n",
              "          const docLinkHtml = 'Like what you see? Visit the ' +\n",
              "            '<a target=\"_blank\" href=https://colab.research.google.com/notebooks/data_table.ipynb>data table notebook</a>'\n",
              "            + ' to learn more about interactive tables.';\n",
              "          element.innerHTML = '';\n",
              "          dataTable['output_type'] = 'display_data';\n",
              "          await google.colab.output.renderOutput(dataTable, element);\n",
              "          const docLink = document.createElement('div');\n",
              "          docLink.innerHTML = docLinkHtml;\n",
              "          element.appendChild(docLink);\n",
              "        }\n",
              "      </script>\n",
              "    </div>\n",
              "  </div>\n",
              "  "
            ]
          },
          "metadata": {},
          "execution_count": 10
        }
      ]
    },
    {
      "cell_type": "markdown",
      "source": [
        "# Generic graphs\n",
        "Over the first 1000 and last 1000 records, to compare initial healthy state with the end of the experiment\n"
      ],
      "metadata": {
        "id": "L5xE9ntmak5x"
      }
    },
    {
      "cell_type": "code",
      "source": [
        "channel = 8\n",
        "bearing = 4\n",
        "test_number = 1"
      ],
      "metadata": {
        "id": "D3O07RHqN6mx"
      },
      "execution_count": null,
      "outputs": []
    },
    {
      "cell_type": "markdown",
      "source": [
        "### Computations"
      ],
      "metadata": {
        "id": "sLIJQAilQ4JA"
      }
    },
    {
      "cell_type": "code",
      "source": [
        "channel_base0= channel-1"
      ],
      "metadata": {
        "id": "assFDRO_N-HJ"
      },
      "execution_count": null,
      "outputs": []
    },
    {
      "cell_type": "code",
      "source": [
        "file1 = pd.DataFrame(pd.read_table(file_list[0], header = None))"
      ],
      "metadata": {
        "id": "qtjGqJIUcdTG"
      },
      "execution_count": null,
      "outputs": []
    },
    {
      "cell_type": "code",
      "source": [
        "file1"
      ],
      "metadata": {
        "colab": {
          "base_uri": "https://localhost:8080/"
        },
        "id": "LRA1o9ZBckci",
        "outputId": "bce733c6-eb8b-401b-86fa-9069f9e4d7e5"
      },
      "execution_count": null,
      "outputs": [
        {
          "output_type": "execute_result",
          "data": {
            "text/plain": [
              "           0      1      2      3      4      5      6      7\n",
              "0     -0.071 -0.117 -0.295 -0.471  0.132 -0.144 -0.173 -0.020\n",
              "1     -0.066 -0.068 -0.063 -0.417 -0.271 -0.107 -0.078 -0.081\n",
              "2     -0.078 -0.154 -0.193 -0.122 -0.254 -0.154  0.034 -0.107\n",
              "3     -0.146 -0.222 -0.320  0.037  0.205 -0.349  0.090 -0.093\n",
              "4     -0.083 -0.330 -0.088 -0.176 -0.417  0.103 -0.061 -0.190\n",
              "...      ...    ...    ...    ...    ...    ...    ...    ...\n",
              "20475 -0.168 -0.068 -0.449  0.190  0.117  1.196 -0.037 -0.122\n",
              "20476 -0.112  0.088 -0.493  0.266 -0.266  0.342 -0.339 -0.164\n",
              "20477 -0.081 -0.020 -0.325 -0.049 -0.112 -0.481 -0.300 -0.007\n",
              "20478 -0.115 -0.146 -0.190 -0.427  0.813  0.049 -0.205  0.105\n",
              "20479 -0.098 -0.166  0.012 -0.552 -0.071  0.588 -0.159  0.232\n",
              "\n",
              "[20480 rows x 8 columns]"
            ],
            "text/html": [
              "\n",
              "  <div id=\"df-d63d5a73-5550-4cee-8f17-f1d61bf00657\">\n",
              "    <div class=\"colab-df-container\">\n",
              "      <div>\n",
              "<style scoped>\n",
              "    .dataframe tbody tr th:only-of-type {\n",
              "        vertical-align: middle;\n",
              "    }\n",
              "\n",
              "    .dataframe tbody tr th {\n",
              "        vertical-align: top;\n",
              "    }\n",
              "\n",
              "    .dataframe thead th {\n",
              "        text-align: right;\n",
              "    }\n",
              "</style>\n",
              "<table border=\"1\" class=\"dataframe\">\n",
              "  <thead>\n",
              "    <tr style=\"text-align: right;\">\n",
              "      <th></th>\n",
              "      <th>0</th>\n",
              "      <th>1</th>\n",
              "      <th>2</th>\n",
              "      <th>3</th>\n",
              "      <th>4</th>\n",
              "      <th>5</th>\n",
              "      <th>6</th>\n",
              "      <th>7</th>\n",
              "    </tr>\n",
              "  </thead>\n",
              "  <tbody>\n",
              "    <tr>\n",
              "      <th>0</th>\n",
              "      <td>-0.071</td>\n",
              "      <td>-0.117</td>\n",
              "      <td>-0.295</td>\n",
              "      <td>-0.471</td>\n",
              "      <td>0.132</td>\n",
              "      <td>-0.144</td>\n",
              "      <td>-0.173</td>\n",
              "      <td>-0.020</td>\n",
              "    </tr>\n",
              "    <tr>\n",
              "      <th>1</th>\n",
              "      <td>-0.066</td>\n",
              "      <td>-0.068</td>\n",
              "      <td>-0.063</td>\n",
              "      <td>-0.417</td>\n",
              "      <td>-0.271</td>\n",
              "      <td>-0.107</td>\n",
              "      <td>-0.078</td>\n",
              "      <td>-0.081</td>\n",
              "    </tr>\n",
              "    <tr>\n",
              "      <th>2</th>\n",
              "      <td>-0.078</td>\n",
              "      <td>-0.154</td>\n",
              "      <td>-0.193</td>\n",
              "      <td>-0.122</td>\n",
              "      <td>-0.254</td>\n",
              "      <td>-0.154</td>\n",
              "      <td>0.034</td>\n",
              "      <td>-0.107</td>\n",
              "    </tr>\n",
              "    <tr>\n",
              "      <th>3</th>\n",
              "      <td>-0.146</td>\n",
              "      <td>-0.222</td>\n",
              "      <td>-0.320</td>\n",
              "      <td>0.037</td>\n",
              "      <td>0.205</td>\n",
              "      <td>-0.349</td>\n",
              "      <td>0.090</td>\n",
              "      <td>-0.093</td>\n",
              "    </tr>\n",
              "    <tr>\n",
              "      <th>4</th>\n",
              "      <td>-0.083</td>\n",
              "      <td>-0.330</td>\n",
              "      <td>-0.088</td>\n",
              "      <td>-0.176</td>\n",
              "      <td>-0.417</td>\n",
              "      <td>0.103</td>\n",
              "      <td>-0.061</td>\n",
              "      <td>-0.190</td>\n",
              "    </tr>\n",
              "    <tr>\n",
              "      <th>...</th>\n",
              "      <td>...</td>\n",
              "      <td>...</td>\n",
              "      <td>...</td>\n",
              "      <td>...</td>\n",
              "      <td>...</td>\n",
              "      <td>...</td>\n",
              "      <td>...</td>\n",
              "      <td>...</td>\n",
              "    </tr>\n",
              "    <tr>\n",
              "      <th>20475</th>\n",
              "      <td>-0.168</td>\n",
              "      <td>-0.068</td>\n",
              "      <td>-0.449</td>\n",
              "      <td>0.190</td>\n",
              "      <td>0.117</td>\n",
              "      <td>1.196</td>\n",
              "      <td>-0.037</td>\n",
              "      <td>-0.122</td>\n",
              "    </tr>\n",
              "    <tr>\n",
              "      <th>20476</th>\n",
              "      <td>-0.112</td>\n",
              "      <td>0.088</td>\n",
              "      <td>-0.493</td>\n",
              "      <td>0.266</td>\n",
              "      <td>-0.266</td>\n",
              "      <td>0.342</td>\n",
              "      <td>-0.339</td>\n",
              "      <td>-0.164</td>\n",
              "    </tr>\n",
              "    <tr>\n",
              "      <th>20477</th>\n",
              "      <td>-0.081</td>\n",
              "      <td>-0.020</td>\n",
              "      <td>-0.325</td>\n",
              "      <td>-0.049</td>\n",
              "      <td>-0.112</td>\n",
              "      <td>-0.481</td>\n",
              "      <td>-0.300</td>\n",
              "      <td>-0.007</td>\n",
              "    </tr>\n",
              "    <tr>\n",
              "      <th>20478</th>\n",
              "      <td>-0.115</td>\n",
              "      <td>-0.146</td>\n",
              "      <td>-0.190</td>\n",
              "      <td>-0.427</td>\n",
              "      <td>0.813</td>\n",
              "      <td>0.049</td>\n",
              "      <td>-0.205</td>\n",
              "      <td>0.105</td>\n",
              "    </tr>\n",
              "    <tr>\n",
              "      <th>20479</th>\n",
              "      <td>-0.098</td>\n",
              "      <td>-0.166</td>\n",
              "      <td>0.012</td>\n",
              "      <td>-0.552</td>\n",
              "      <td>-0.071</td>\n",
              "      <td>0.588</td>\n",
              "      <td>-0.159</td>\n",
              "      <td>0.232</td>\n",
              "    </tr>\n",
              "  </tbody>\n",
              "</table>\n",
              "<p>20480 rows × 8 columns</p>\n",
              "</div>\n",
              "      <button class=\"colab-df-convert\" onclick=\"convertToInteractive('df-d63d5a73-5550-4cee-8f17-f1d61bf00657')\"\n",
              "              title=\"Convert this dataframe to an interactive table.\"\n",
              "              style=\"display:none;\">\n",
              "        \n",
              "  <svg xmlns=\"http://www.w3.org/2000/svg\" height=\"24px\"viewBox=\"0 0 24 24\"\n",
              "       width=\"24px\">\n",
              "    <path d=\"M0 0h24v24H0V0z\" fill=\"none\"/>\n",
              "    <path d=\"M18.56 5.44l.94 2.06.94-2.06 2.06-.94-2.06-.94-.94-2.06-.94 2.06-2.06.94zm-11 1L8.5 8.5l.94-2.06 2.06-.94-2.06-.94L8.5 2.5l-.94 2.06-2.06.94zm10 10l.94 2.06.94-2.06 2.06-.94-2.06-.94-.94-2.06-.94 2.06-2.06.94z\"/><path d=\"M17.41 7.96l-1.37-1.37c-.4-.4-.92-.59-1.43-.59-.52 0-1.04.2-1.43.59L10.3 9.45l-7.72 7.72c-.78.78-.78 2.05 0 2.83L4 21.41c.39.39.9.59 1.41.59.51 0 1.02-.2 1.41-.59l7.78-7.78 2.81-2.81c.8-.78.8-2.07 0-2.86zM5.41 20L4 18.59l7.72-7.72 1.47 1.35L5.41 20z\"/>\n",
              "  </svg>\n",
              "      </button>\n",
              "      \n",
              "  <style>\n",
              "    .colab-df-container {\n",
              "      display:flex;\n",
              "      flex-wrap:wrap;\n",
              "      gap: 12px;\n",
              "    }\n",
              "\n",
              "    .colab-df-convert {\n",
              "      background-color: #E8F0FE;\n",
              "      border: none;\n",
              "      border-radius: 50%;\n",
              "      cursor: pointer;\n",
              "      display: none;\n",
              "      fill: #1967D2;\n",
              "      height: 32px;\n",
              "      padding: 0 0 0 0;\n",
              "      width: 32px;\n",
              "    }\n",
              "\n",
              "    .colab-df-convert:hover {\n",
              "      background-color: #E2EBFA;\n",
              "      box-shadow: 0px 1px 2px rgba(60, 64, 67, 0.3), 0px 1px 3px 1px rgba(60, 64, 67, 0.15);\n",
              "      fill: #174EA6;\n",
              "    }\n",
              "\n",
              "    [theme=dark] .colab-df-convert {\n",
              "      background-color: #3B4455;\n",
              "      fill: #D2E3FC;\n",
              "    }\n",
              "\n",
              "    [theme=dark] .colab-df-convert:hover {\n",
              "      background-color: #434B5C;\n",
              "      box-shadow: 0px 1px 3px 1px rgba(0, 0, 0, 0.15);\n",
              "      filter: drop-shadow(0px 1px 2px rgba(0, 0, 0, 0.3));\n",
              "      fill: #FFFFFF;\n",
              "    }\n",
              "  </style>\n",
              "\n",
              "      <script>\n",
              "        const buttonEl =\n",
              "          document.querySelector('#df-d63d5a73-5550-4cee-8f17-f1d61bf00657 button.colab-df-convert');\n",
              "        buttonEl.style.display =\n",
              "          google.colab.kernel.accessAllowed ? 'block' : 'none';\n",
              "\n",
              "        async function convertToInteractive(key) {\n",
              "          const element = document.querySelector('#df-d63d5a73-5550-4cee-8f17-f1d61bf00657');\n",
              "          const dataTable =\n",
              "            await google.colab.kernel.invokeFunction('convertToInteractive',\n",
              "                                                     [key], {});\n",
              "          if (!dataTable) return;\n",
              "\n",
              "          const docLinkHtml = 'Like what you see? Visit the ' +\n",
              "            '<a target=\"_blank\" href=https://colab.research.google.com/notebooks/data_table.ipynb>data table notebook</a>'\n",
              "            + ' to learn more about interactive tables.';\n",
              "          element.innerHTML = '';\n",
              "          dataTable['output_type'] = 'display_data';\n",
              "          await google.colab.output.renderOutput(dataTable, element);\n",
              "          const docLink = document.createElement('div');\n",
              "          docLink.innerHTML = docLinkHtml;\n",
              "          element.appendChild(docLink);\n",
              "        }\n",
              "      </script>\n",
              "    </div>\n",
              "  </div>\n",
              "  "
            ]
          },
          "metadata": {},
          "execution_count": 44
        }
      ]
    },
    {
      "cell_type": "code",
      "source": [
        "x = df.index.to_series()\n",
        "\n",
        "y = df[channel_base0]\n"
      ],
      "metadata": {
        "id": "DrJz99TEeHcO"
      },
      "execution_count": null,
      "outputs": []
    },
    {
      "cell_type": "code",
      "source": [
        "print(x)"
      ],
      "metadata": {
        "colab": {
          "base_uri": "https://localhost:8080/"
        },
        "id": "XricILwfiFbs",
        "outputId": "335fbcbf-6343-4db5-deac-74c61e06a318"
      },
      "execution_count": null,
      "outputs": [
        {
          "output_type": "stream",
          "name": "stdout",
          "text": [
            "0            0\n",
            "1            1\n",
            "2            2\n",
            "3            3\n",
            "4            4\n",
            "         ...  \n",
            "20475    20475\n",
            "20476    20476\n",
            "20477    20477\n",
            "20478    20478\n",
            "20479    20479\n",
            "Length: 20480, dtype: int64\n"
          ]
        }
      ]
    },
    {
      "cell_type": "code",
      "source": [
        "X = x[0:1000]\n",
        "Y = y[0:1000]"
      ],
      "metadata": {
        "id": "RNpuwJLqj3Ue"
      },
      "execution_count": null,
      "outputs": []
    },
    {
      "cell_type": "code",
      "source": [
        "Y"
      ],
      "metadata": {
        "colab": {
          "base_uri": "https://localhost:8080/"
        },
        "id": "WNgBRlubOQPk",
        "outputId": "18728e37-15b7-4540-f6b5-eb8e6eda876c"
      },
      "execution_count": null,
      "outputs": [
        {
          "output_type": "execute_result",
          "data": {
            "text/plain": [
              "0     -0.378\n",
              "1     -0.251\n",
              "2      0.281\n",
              "3     -0.171\n",
              "4     -0.020\n",
              "       ...  \n",
              "995    0.115\n",
              "996    0.015\n",
              "997   -0.176\n",
              "998   -0.571\n",
              "999   -0.188\n",
              "Name: 7, Length: 1000, dtype: float64"
            ]
          },
          "metadata": {},
          "execution_count": 48
        }
      ]
    },
    {
      "cell_type": "code",
      "source": [
        "X2 = x[-1000:]\n",
        "Y2 = last_df[channel_base0][-1000:]"
      ],
      "metadata": {
        "id": "X28YDnbJkdQ2"
      },
      "execution_count": null,
      "outputs": []
    },
    {
      "cell_type": "markdown",
      "source": [
        "### Result"
      ],
      "metadata": {
        "id": "b72AFGmoQ8fJ"
      }
    },
    {
      "cell_type": "code",
      "source": [
        "plt.figure(figsize=(17,6))\n",
        "\n",
        "plt.plot(X, Y, 'dodgerblue', label = 'First 1000 points', linewidth = 1, alpha=0.8)\n",
        "\n",
        "plt.plot(X, Y2, 'red', label = 'Last 1000 points', linewidth = 1, alpha=0.8)\n",
        "\n",
        "# X-axis label.\n",
        "plt.xlabel('Index', fontsize = 16)\n",
        "\n",
        "# Y-axis label.\n",
        "plt.ylabel(f'Vibration of Channel {channel} - Bearing {bearing}  (G\\'s)', fontsize = 16)\n",
        "\n",
        "# Title\n",
        "plt.title(f\"Vibration comparison for Test {test_number}\", fontsize = 20)\n",
        "\n",
        "\n",
        "# Grid\n",
        "plt.grid(True)\n",
        "# plt.grid(False)\n",
        "\n",
        "# Legend for the plot.\n",
        "plt.legend()\n",
        "\n",
        "# Saving the figure on disk.\n",
        "#plt.savefig('Line_plot.png')\n",
        "\n",
        "# Displays the plot.\n",
        "plt.show()"
      ],
      "metadata": {
        "colab": {
          "base_uri": "https://localhost:8080/",
          "height": 329
        },
        "id": "9XJIP3GOjYOp",
        "outputId": "fbce496c-011e-484a-aeb3-5beb78a650bd"
      },
      "execution_count": null,
      "outputs": [
        {
          "output_type": "display_data",
          "data": {
            "text/plain": [
              "<Figure size 1700x600 with 1 Axes>"
            ],
            "image/png": "[encoded data removed]"
          },
          "metadata": {}
        }
      ]
    },
    {
      "cell_type": "code",
      "source": [],
      "metadata": {
        "id": "fs_8iOxjjnwF"
      },
      "execution_count": null,
      "outputs": []
    },
    {
      "cell_type": "markdown",
      "source": [
        "# Characteristics"
      ],
      "metadata": {
        "id": "tq-_pEdPbKKS"
      }
    },
    {
      "cell_type": "markdown",
      "source": [
        "## For one file"
      ],
      "metadata": {
        "id": "IjLet3-1bMjX"
      }
    },
    {
      "cell_type": "code",
      "source": [
        "file1"
      ],
      "metadata": {
        "colab": {
          "base_uri": "https://localhost:8080/",
          "height": 424
        },
        "id": "gHhFqM-EdEIV",
        "outputId": "1f6e382a-6e3e-4d42-f9b9-27889cefd296"
      },
      "execution_count": null,
      "outputs": [
        {
          "output_type": "execute_result",
          "data": {
            "text/plain": [
              "           0      1      2      3      4      5      6      7\n",
              "0     -0.071 -0.117 -0.295 -0.471  0.132 -0.144 -0.173 -0.020\n",
              "1     -0.066 -0.068 -0.063 -0.417 -0.271 -0.107 -0.078 -0.081\n",
              "2     -0.078 -0.154 -0.193 -0.122 -0.254 -0.154  0.034 -0.107\n",
              "3     -0.146 -0.222 -0.320  0.037  0.205 -0.349  0.090 -0.093\n",
              "4     -0.083 -0.330 -0.088 -0.176 -0.417  0.103 -0.061 -0.190\n",
              "...      ...    ...    ...    ...    ...    ...    ...    ...\n",
              "20475 -0.168 -0.068 -0.449  0.190  0.117  1.196 -0.037 -0.122\n",
              "20476 -0.112  0.088 -0.493  0.266 -0.266  0.342 -0.339 -0.164\n",
              "20477 -0.081 -0.020 -0.325 -0.049 -0.112 -0.481 -0.300 -0.007\n",
              "20478 -0.115 -0.146 -0.190 -0.427  0.813  0.049 -0.205  0.105\n",
              "20479 -0.098 -0.166  0.012 -0.552 -0.071  0.588 -0.159  0.232\n",
              "\n",
              "[20480 rows x 8 columns]"
            ],
            "text/html": [
              "\n",
              "  <div id=\"df-c8d86bed-4c02-474a-b739-1cbfd609e16f\">\n",
              "    <div class=\"colab-df-container\">\n",
              "      <div>\n",
              "<style scoped>\n",
              "    .dataframe tbody tr th:only-of-type {\n",
              "        vertical-align: middle;\n",
              "    }\n",
              "\n",
              "    .dataframe tbody tr th {\n",
              "        vertical-align: top;\n",
              "    }\n",
              "\n",
              "    .dataframe thead th {\n",
              "        text-align: right;\n",
              "    }\n",
              "</style>\n",
              "<table border=\"1\" class=\"dataframe\">\n",
              "  <thead>\n",
              "    <tr style=\"text-align: right;\">\n",
              "      <th></th>\n",
              "      <th>0</th>\n",
              "      <th>1</th>\n",
              "      <th>2</th>\n",
              "      <th>3</th>\n",
              "      <th>4</th>\n",
              "      <th>5</th>\n",
              "      <th>6</th>\n",
              "      <th>7</th>\n",
              "    </tr>\n",
              "  </thead>\n",
              "  <tbody>\n",
              "    <tr>\n",
              "      <th>0</th>\n",
              "      <td>-0.071</td>\n",
              "      <td>-0.117</td>\n",
              "      <td>-0.295</td>\n",
              "      <td>-0.471</td>\n",
              "      <td>0.132</td>\n",
              "      <td>-0.144</td>\n",
              "      <td>-0.173</td>\n",
              "      <td>-0.020</td>\n",
              "    </tr>\n",
              "    <tr>\n",
              "      <th>1</th>\n",
              "      <td>-0.066</td>\n",
              "      <td>-0.068</td>\n",
              "      <td>-0.063</td>\n",
              "      <td>-0.417</td>\n",
              "      <td>-0.271</td>\n",
              "      <td>-0.107</td>\n",
              "      <td>-0.078</td>\n",
              "      <td>-0.081</td>\n",
              "    </tr>\n",
              "    <tr>\n",
              "      <th>2</th>\n",
              "      <td>-0.078</td>\n",
              "      <td>-0.154</td>\n",
              "      <td>-0.193</td>\n",
              "      <td>-0.122</td>\n",
              "      <td>-0.254</td>\n",
              "      <td>-0.154</td>\n",
              "      <td>0.034</td>\n",
              "      <td>-0.107</td>\n",
              "    </tr>\n",
              "    <tr>\n",
              "      <th>3</th>\n",
              "      <td>-0.146</td>\n",
              "      <td>-0.222</td>\n",
              "      <td>-0.320</td>\n",
              "      <td>0.037</td>\n",
              "      <td>0.205</td>\n",
              "      <td>-0.349</td>\n",
              "      <td>0.090</td>\n",
              "      <td>-0.093</td>\n",
              "    </tr>\n",
              "    <tr>\n",
              "      <th>4</th>\n",
              "      <td>-0.083</td>\n",
              "      <td>-0.330</td>\n",
              "      <td>-0.088</td>\n",
              "      <td>-0.176</td>\n",
              "      <td>-0.417</td>\n",
              "      <td>0.103</td>\n",
              "      <td>-0.061</td>\n",
              "      <td>-0.190</td>\n",
              "    </tr>\n",
              "    <tr>\n",
              "      <th>...</th>\n",
              "      <td>...</td>\n",
              "      <td>...</td>\n",
              "      <td>...</td>\n",
              "      <td>...</td>\n",
              "      <td>...</td>\n",
              "      <td>...</td>\n",
              "      <td>...</td>\n",
              "      <td>...</td>\n",
              "    </tr>\n",
              "    <tr>\n",
              "      <th>20475</th>\n",
              "      <td>-0.168</td>\n",
              "      <td>-0.068</td>\n",
              "      <td>-0.449</td>\n",
              "      <td>0.190</td>\n",
              "      <td>0.117</td>\n",
              "      <td>1.196</td>\n",
              "      <td>-0.037</td>\n",
              "      <td>-0.122</td>\n",
              "    </tr>\n",
              "    <tr>\n",
              "      <th>20476</th>\n",
              "      <td>-0.112</td>\n",
              "      <td>0.088</td>\n",
              "      <td>-0.493</td>\n",
              "      <td>0.266</td>\n",
              "      <td>-0.266</td>\n",
              "      <td>0.342</td>\n",
              "      <td>-0.339</td>\n",
              "      <td>-0.164</td>\n",
              "    </tr>\n",
              "    <tr>\n",
              "      <th>20477</th>\n",
              "      <td>-0.081</td>\n",
              "      <td>-0.020</td>\n",
              "      <td>-0.325</td>\n",
              "      <td>-0.049</td>\n",
              "      <td>-0.112</td>\n",
              "      <td>-0.481</td>\n",
              "      <td>-0.300</td>\n",
              "      <td>-0.007</td>\n",
              "    </tr>\n",
              "    <tr>\n",
              "      <th>20478</th>\n",
              "      <td>-0.115</td>\n",
              "      <td>-0.146</td>\n",
              "      <td>-0.190</td>\n",
              "      <td>-0.427</td>\n",
              "      <td>0.813</td>\n",
              "      <td>0.049</td>\n",
              "      <td>-0.205</td>\n",
              "      <td>0.105</td>\n",
              "    </tr>\n",
              "    <tr>\n",
              "      <th>20479</th>\n",
              "      <td>-0.098</td>\n",
              "      <td>-0.166</td>\n",
              "      <td>0.012</td>\n",
              "      <td>-0.552</td>\n",
              "      <td>-0.071</td>\n",
              "      <td>0.588</td>\n",
              "      <td>-0.159</td>\n",
              "      <td>0.232</td>\n",
              "    </tr>\n",
              "  </tbody>\n",
              "</table>\n",
              "<p>20480 rows × 8 columns</p>\n",
              "</div>\n",
              "      <button class=\"colab-df-convert\" onclick=\"convertToInteractive('df-c8d86bed-4c02-474a-b739-1cbfd609e16f')\"\n",
              "              title=\"Convert this dataframe to an interactive table.\"\n",
              "              style=\"display:none;\">\n",
              "        \n",
              "  <svg xmlns=\"http://www.w3.org/2000/svg\" height=\"24px\"viewBox=\"0 0 24 24\"\n",
              "       width=\"24px\">\n",
              "    <path d=\"M0 0h24v24H0V0z\" fill=\"none\"/>\n",
              "    <path d=\"M18.56 5.44l.94 2.06.94-2.06 2.06-.94-2.06-.94-.94-2.06-.94 2.06-2.06.94zm-11 1L8.5 8.5l.94-2.06 2.06-.94-2.06-.94L8.5 2.5l-.94 2.06-2.06.94zm10 10l.94 2.06.94-2.06 2.06-.94-2.06-.94-.94-2.06-.94 2.06-2.06.94z\"/><path d=\"M17.41 7.96l-1.37-1.37c-.4-.4-.92-.59-1.43-.59-.52 0-1.04.2-1.43.59L10.3 9.45l-7.72 7.72c-.78.78-.78 2.05 0 2.83L4 21.41c.39.39.9.59 1.41.59.51 0 1.02-.2 1.41-.59l7.78-7.78 2.81-2.81c.8-.78.8-2.07 0-2.86zM5.41 20L4 18.59l7.72-7.72 1.47 1.35L5.41 20z\"/>\n",
              "  </svg>\n",
              "      </button>\n",
              "      \n",
              "  <style>\n",
              "    .colab-df-container {\n",
              "      display:flex;\n",
              "      flex-wrap:wrap;\n",
              "      gap: 12px;\n",
              "    }\n",
              "\n",
              "    .colab-df-convert {\n",
              "      background-color: #E8F0FE;\n",
              "      border: none;\n",
              "      border-radius: 50%;\n",
              "      cursor: pointer;\n",
              "      display: none;\n",
              "      fill: #1967D2;\n",
              "      height: 32px;\n",
              "      padding: 0 0 0 0;\n",
              "      width: 32px;\n",
              "    }\n",
              "\n",
              "    .colab-df-convert:hover {\n",
              "      background-color: #E2EBFA;\n",
              "      box-shadow: 0px 1px 2px rgba(60, 64, 67, 0.3), 0px 1px 3px 1px rgba(60, 64, 67, 0.15);\n",
              "      fill: #174EA6;\n",
              "    }\n",
              "\n",
              "    [theme=dark] .colab-df-convert {\n",
              "      background-color: #3B4455;\n",
              "      fill: #D2E3FC;\n",
              "    }\n",
              "\n",
              "    [theme=dark] .colab-df-convert:hover {\n",
              "      background-color: #434B5C;\n",
              "      box-shadow: 0px 1px 3px 1px rgba(0, 0, 0, 0.15);\n",
              "      filter: drop-shadow(0px 1px 2px rgba(0, 0, 0, 0.3));\n",
              "      fill: #FFFFFF;\n",
              "    }\n",
              "  </style>\n",
              "\n",
              "      <script>\n",
              "        const buttonEl =\n",
              "          document.querySelector('#df-c8d86bed-4c02-474a-b739-1cbfd609e16f button.colab-df-convert');\n",
              "        buttonEl.style.display =\n",
              "          google.colab.kernel.accessAllowed ? 'block' : 'none';\n",
              "\n",
              "        async function convertToInteractive(key) {\n",
              "          const element = document.querySelector('#df-c8d86bed-4c02-474a-b739-1cbfd609e16f');\n",
              "          const dataTable =\n",
              "            await google.colab.kernel.invokeFunction('convertToInteractive',\n",
              "                                                     [key], {});\n",
              "          if (!dataTable) return;\n",
              "\n",
              "          const docLinkHtml = 'Like what you see? Visit the ' +\n",
              "            '<a target=\"_blank\" href=https://colab.research.google.com/notebooks/data_table.ipynb>data table notebook</a>'\n",
              "            + ' to learn more about interactive tables.';\n",
              "          element.innerHTML = '';\n",
              "          dataTable['output_type'] = 'display_data';\n",
              "          await google.colab.output.renderOutput(dataTable, element);\n",
              "          const docLink = document.createElement('div');\n",
              "          docLink.innerHTML = docLinkHtml;\n",
              "          element.appendChild(docLink);\n",
              "        }\n",
              "      </script>\n",
              "    </div>\n",
              "  </div>\n",
              "  "
            ]
          },
          "metadata": {},
          "execution_count": 18
        }
      ]
    },
    {
      "cell_type": "code",
      "source": [
        "file1.iloc[:, 0].mean()"
      ],
      "metadata": {
        "colab": {
          "base_uri": "https://localhost:8080/"
        },
        "id": "4XKowATFjDnw",
        "outputId": "016e609e-257d-4701-8efa-7e954ac6a043"
      },
      "execution_count": null,
      "outputs": [
        {
          "output_type": "execute_result",
          "data": {
            "text/plain": [
              "-0.117158154296875"
            ]
          },
          "metadata": {},
          "execution_count": 19
        }
      ]
    },
    {
      "cell_type": "code",
      "source": [
        "def rms(array):\n",
        "  return np.sqrt(np.mean(array**2))"
      ],
      "metadata": {
        "id": "sycMTXOpy6Fe"
      },
      "execution_count": null,
      "outputs": []
    },
    {
      "cell_type": "markdown",
      "source": [
        "### Function to compute characteristics, only for this set of files and dataset."
      ],
      "metadata": {
        "id": "ODVW0RVZlgqW"
      }
    },
    {
      "cell_type": "code",
      "source": [
        "def computeFunction(df, function):\n",
        "  print(\"Function applied:\", function)\n",
        "  result = []\n",
        "  for i in range(0,8):\n",
        "    #print(\"Channel\", i)\n",
        "    data = function(df.iloc[:, i])\n",
        "    #print(data)\n",
        "    result.append(data)\n",
        "  return result\n",
        "\n",
        "\n"
      ],
      "metadata": {
        "id": "naBmyTzslRHg"
      },
      "execution_count": null,
      "outputs": []
    },
    {
      "cell_type": "markdown",
      "source": [
        "### Computes a ton of functions and returns the result all nicely wrapped up"
      ],
      "metadata": {
        "id": "5t9jQIcf_WMP"
      }
    },
    {
      "cell_type": "code",
      "source": [
        "def computeFunctionsDepracated(df):\n",
        "  functions = [np.mean, np.std, kurtosis, skew, rms, max, min]\n",
        "  result = pd.DataFrame(columns = [0, 1, 2, 3, 4, 5, 6, 7],\n",
        "                      index = [f.__name__ for f in functions])\n",
        "\n",
        "  for f in functions:\n",
        "    # Yes, I am completly aware that this is not very efficient\n",
        "    row = computeFunction(df, f)\n",
        "    print(row)\n",
        "    print(f.__name__)\n",
        "    result = result.append(row)\n"
      ],
      "metadata": {
        "id": "0bScWVyS_PzD"
      },
      "execution_count": null,
      "outputs": []
    },
    {
      "cell_type": "code",
      "source": [
        "np.mean.__name__"
      ],
      "metadata": {
        "colab": {
          "base_uri": "https://localhost:8080/",
          "height": 35
        },
        "id": "_hADkjwZL5G2",
        "outputId": "f60f7c07-e1fd-4336-8dd0-3e535aeb38c8"
      },
      "execution_count": null,
      "outputs": [
        {
          "output_type": "execute_result",
          "data": {
            "text/plain": [
              "'mean'"
            ],
            "application/vnd.google.colaboratory.intrinsic+json": {
              "type": "string"
            }
          },
          "metadata": {},
          "execution_count": 23
        }
      ]
    },
    {
      "cell_type": "code",
      "source": [
        "functions = [np.mean, np.std, kurtosis, skew, rms, max, min]\n",
        "result = pd.DataFrame(columns = [0, 1, 2, 3, 4, 5, 6, 7],\n",
        "                      index = [f.__name__ for f in functions])\n",
        "print(result)"
      ],
      "metadata": {
        "colab": {
          "base_uri": "https://localhost:8080/"
        },
        "id": "BhMQvw_Y-7Ce",
        "outputId": "2ce2ca6d-0e17-4d52-c6ad-d74644e2738e"
      },
      "execution_count": null,
      "outputs": [
        {
          "output_type": "stream",
          "name": "stdout",
          "text": [
            "            0    1    2    3    4    5    6    7\n",
            "mean      NaN  NaN  NaN  NaN  NaN  NaN  NaN  NaN\n",
            "std       NaN  NaN  NaN  NaN  NaN  NaN  NaN  NaN\n",
            "kurtosis  NaN  NaN  NaN  NaN  NaN  NaN  NaN  NaN\n",
            "skew      NaN  NaN  NaN  NaN  NaN  NaN  NaN  NaN\n",
            "rms       NaN  NaN  NaN  NaN  NaN  NaN  NaN  NaN\n",
            "max       NaN  NaN  NaN  NaN  NaN  NaN  NaN  NaN\n",
            "min       NaN  NaN  NaN  NaN  NaN  NaN  NaN  NaN\n"
          ]
        }
      ]
    },
    {
      "cell_type": "markdown",
      "source": [
        "### Function to compute a ton of functions\n",
        "(but this time, it will work)"
      ],
      "metadata": {
        "id": "dPF20lbIZjaV"
      }
    },
    {
      "cell_type": "code",
      "source": [
        "def computeFunctions(df, filename = \"Archivo 1\"):\n",
        "  index = []\n",
        "  for i in range(0,df.shape[1]):\n",
        "    index.append(\"{}: CH{}\".format(filename,i))\n",
        "\n",
        "  functions = [np.mean, np.std, kurtosis, skew, rms, max, min]\n",
        "  columns = [f.__name__ for f in functions]\n",
        "\n",
        "  result = pd.DataFrame(columns = columns,\n",
        "                      index = index)\n",
        "\n",
        "  for i in range(0,df.shape[1]):\n",
        "    for f in functions:\n",
        "      data = f(df.iloc[:,i])\n",
        "      result.loc[\"{}: CH{}\".format(filename,i),f.__name__] = data\n",
        "\n",
        "  return result"
      ],
      "metadata": {
        "id": "z7-vYeijOFzE"
      },
      "execution_count": null,
      "outputs": []
    },
    {
      "cell_type": "code",
      "source": [
        "computeFunctions(file1, filenames[0])"
      ],
      "metadata": {
        "colab": {
          "base_uri": "https://localhost:8080/",
          "height": 300
        },
        "id": "Uh4BScdfavxa",
        "outputId": "6743437e-cda9-4795-a500-c791f58ea3ef"
      },
      "execution_count": null,
      "outputs": [
        {
          "output_type": "execute_result",
          "data": {
            "text/plain": [
              "                              mean       std  kurtosis      skew       rms  \\\n",
              "2003.10.22.12.06.24: CH0 -0.117158  0.128892  0.557575 -0.040126  0.174181   \n",
              "2003.10.22.12.06.24: CH1  -0.11681   0.10638  0.571086  0.065542  0.157991   \n",
              "2003.10.22.12.06.24: CH2 -0.117671  0.176177  0.270289  0.071844   0.21186   \n",
              "2003.10.22.12.06.24: CH3  -0.11721  0.164022  0.367768 -0.011991  0.201597   \n",
              "2003.10.22.12.06.24: CH4  0.129027  0.579418  5.902675  0.067194   0.59361   \n",
              "2003.10.22.12.06.24: CH5 -0.115777  0.482299  4.265731  0.026523  0.496001   \n",
              "2003.10.22.12.06.24: CH6 -0.115535  0.197923  0.626049 -0.018384  0.229176   \n",
              "2003.10.22.12.06.24: CH7 -0.114618  0.175876  0.584465  0.051768  0.209928   \n",
              "\n",
              "                            max    min  \n",
              "2003.10.22.12.06.24: CH0   0.63 -0.808  \n",
              "2003.10.22.12.06.24: CH1  0.518 -0.632  \n",
              "2003.10.22.12.06.24: CH2  0.715 -0.806  \n",
              "2003.10.22.12.06.24: CH3  0.503 -0.754  \n",
              "2003.10.22.12.06.24: CH4  4.998   -5.0  \n",
              "2003.10.22.12.06.24: CH5  3.516 -3.833  \n",
              "2003.10.22.12.06.24: CH6  0.764  -1.03  \n",
              "2003.10.22.12.06.24: CH7  0.796 -0.889  "
            ],
            "text/html": [
              "\n",
              "  <div id=\"df-8de90feb-3b0c-4350-8b41-88bab19140d5\">\n",
              "    <div class=\"colab-df-container\">\n",
              "      <div>\n",
              "<style scoped>\n",
              "    .dataframe tbody tr th:only-of-type {\n",
              "        vertical-align: middle;\n",
              "    }\n",
              "\n",
              "    .dataframe tbody tr th {\n",
              "        vertical-align: top;\n",
              "    }\n",
              "\n",
              "    .dataframe thead th {\n",
              "        text-align: right;\n",
              "    }\n",
              "</style>\n",
              "<table border=\"1\" class=\"dataframe\">\n",
              "  <thead>\n",
              "    <tr style=\"text-align: right;\">\n",
              "      <th></th>\n",
              "      <th>mean</th>\n",
              "      <th>std</th>\n",
              "      <th>kurtosis</th>\n",
              "      <th>skew</th>\n",
              "      <th>rms</th>\n",
              "      <th>max</th>\n",
              "      <th>min</th>\n",
              "    </tr>\n",
              "  </thead>\n",
              "  <tbody>\n",
              "    <tr>\n",
              "      <th>2003.10.22.12.06.24: CH0</th>\n",
              "      <td>-0.117158</td>\n",
              "      <td>0.128892</td>\n",
              "      <td>0.557575</td>\n",
              "      <td>-0.040126</td>\n",
              "      <td>0.174181</td>\n",
              "      <td>0.63</td>\n",
              "      <td>-0.808</td>\n",
              "    </tr>\n",
              "    <tr>\n",
              "      <th>2003.10.22.12.06.24: CH1</th>\n",
              "      <td>-0.11681</td>\n",
              "      <td>0.10638</td>\n",
              "      <td>0.571086</td>\n",
              "      <td>0.065542</td>\n",
              "      <td>0.157991</td>\n",
              "      <td>0.518</td>\n",
              "      <td>-0.632</td>\n",
              "    </tr>\n",
              "    <tr>\n",
              "      <th>2003.10.22.12.06.24: CH2</th>\n",
              "      <td>-0.117671</td>\n",
              "      <td>0.176177</td>\n",
              "      <td>0.270289</td>\n",
              "      <td>0.071844</td>\n",
              "      <td>0.21186</td>\n",
              "      <td>0.715</td>\n",
              "      <td>-0.806</td>\n",
              "    </tr>\n",
              "    <tr>\n",
              "      <th>2003.10.22.12.06.24: CH3</th>\n",
              "      <td>-0.11721</td>\n",
              "      <td>0.164022</td>\n",
              "      <td>0.367768</td>\n",
              "      <td>-0.011991</td>\n",
              "      <td>0.201597</td>\n",
              "      <td>0.503</td>\n",
              "      <td>-0.754</td>\n",
              "    </tr>\n",
              "    <tr>\n",
              "      <th>2003.10.22.12.06.24: CH4</th>\n",
              "      <td>0.129027</td>\n",
              "      <td>0.579418</td>\n",
              "      <td>5.902675</td>\n",
              "      <td>0.067194</td>\n",
              "      <td>0.59361</td>\n",
              "      <td>4.998</td>\n",
              "      <td>-5.0</td>\n",
              "    </tr>\n",
              "    <tr>\n",
              "      <th>2003.10.22.12.06.24: CH5</th>\n",
              "      <td>-0.115777</td>\n",
              "      <td>0.482299</td>\n",
              "      <td>4.265731</td>\n",
              "      <td>0.026523</td>\n",
              "      <td>0.496001</td>\n",
              "      <td>3.516</td>\n",
              "      <td>-3.833</td>\n",
              "    </tr>\n",
              "    <tr>\n",
              "      <th>2003.10.22.12.06.24: CH6</th>\n",
              "      <td>-0.115535</td>\n",
              "      <td>0.197923</td>\n",
              "      <td>0.626049</td>\n",
              "      <td>-0.018384</td>\n",
              "      <td>0.229176</td>\n",
              "      <td>0.764</td>\n",
              "      <td>-1.03</td>\n",
              "    </tr>\n",
              "    <tr>\n",
              "      <th>2003.10.22.12.06.24: CH7</th>\n",
              "      <td>-0.114618</td>\n",
              "      <td>0.175876</td>\n",
              "      <td>0.584465</td>\n",
              "      <td>0.051768</td>\n",
              "      <td>0.209928</td>\n",
              "      <td>0.796</td>\n",
              "      <td>-0.889</td>\n",
              "    </tr>\n",
              "  </tbody>\n",
              "</table>\n",
              "</div>\n",
              "      <button class=\"colab-df-convert\" onclick=\"convertToInteractive('df-8de90feb-3b0c-4350-8b41-88bab19140d5')\"\n",
              "              title=\"Convert this dataframe to an interactive table.\"\n",
              "              style=\"display:none;\">\n",
              "        \n",
              "  <svg xmlns=\"http://www.w3.org/2000/svg\" height=\"24px\"viewBox=\"0 0 24 24\"\n",
              "       width=\"24px\">\n",
              "    <path d=\"M0 0h24v24H0V0z\" fill=\"none\"/>\n",
              "    <path d=\"M18.56 5.44l.94 2.06.94-2.06 2.06-.94-2.06-.94-.94-2.06-.94 2.06-2.06.94zm-11 1L8.5 8.5l.94-2.06 2.06-.94-2.06-.94L8.5 2.5l-.94 2.06-2.06.94zm10 10l.94 2.06.94-2.06 2.06-.94-2.06-.94-.94-2.06-.94 2.06-2.06.94z\"/><path d=\"M17.41 7.96l-1.37-1.37c-.4-.4-.92-.59-1.43-.59-.52 0-1.04.2-1.43.59L10.3 9.45l-7.72 7.72c-.78.78-.78 2.05 0 2.83L4 21.41c.39.39.9.59 1.41.59.51 0 1.02-.2 1.41-.59l7.78-7.78 2.81-2.81c.8-.78.8-2.07 0-2.86zM5.41 20L4 18.59l7.72-7.72 1.47 1.35L5.41 20z\"/>\n",
              "  </svg>\n",
              "      </button>\n",
              "      \n",
              "  <style>\n",
              "    .colab-df-container {\n",
              "      display:flex;\n",
              "      flex-wrap:wrap;\n",
              "      gap: 12px;\n",
              "    }\n",
              "\n",
              "    .colab-df-convert {\n",
              "      background-color: #E8F0FE;\n",
              "      border: none;\n",
              "      border-radius: 50%;\n",
              "      cursor: pointer;\n",
              "      display: none;\n",
              "      fill: #1967D2;\n",
              "      height: 32px;\n",
              "      padding: 0 0 0 0;\n",
              "      width: 32px;\n",
              "    }\n",
              "\n",
              "    .colab-df-convert:hover {\n",
              "      background-color: #E2EBFA;\n",
              "      box-shadow: 0px 1px 2px rgba(60, 64, 67, 0.3), 0px 1px 3px 1px rgba(60, 64, 67, 0.15);\n",
              "      fill: #174EA6;\n",
              "    }\n",
              "\n",
              "    [theme=dark] .colab-df-convert {\n",
              "      background-color: #3B4455;\n",
              "      fill: #D2E3FC;\n",
              "    }\n",
              "\n",
              "    [theme=dark] .colab-df-convert:hover {\n",
              "      background-color: #434B5C;\n",
              "      box-shadow: 0px 1px 3px 1px rgba(0, 0, 0, 0.15);\n",
              "      filter: drop-shadow(0px 1px 2px rgba(0, 0, 0, 0.3));\n",
              "      fill: #FFFFFF;\n",
              "    }\n",
              "  </style>\n",
              "\n",
              "      <script>\n",
              "        const buttonEl =\n",
              "          document.querySelector('#df-8de90feb-3b0c-4350-8b41-88bab19140d5 button.colab-df-convert');\n",
              "        buttonEl.style.display =\n",
              "          google.colab.kernel.accessAllowed ? 'block' : 'none';\n",
              "\n",
              "        async function convertToInteractive(key) {\n",
              "          const element = document.querySelector('#df-8de90feb-3b0c-4350-8b41-88bab19140d5');\n",
              "          const dataTable =\n",
              "            await google.colab.kernel.invokeFunction('convertToInteractive',\n",
              "                                                     [key], {});\n",
              "          if (!dataTable) return;\n",
              "\n",
              "          const docLinkHtml = 'Like what you see? Visit the ' +\n",
              "            '<a target=\"_blank\" href=https://colab.research.google.com/notebooks/data_table.ipynb>data table notebook</a>'\n",
              "            + ' to learn more about interactive tables.';\n",
              "          element.innerHTML = '';\n",
              "          dataTable['output_type'] = 'display_data';\n",
              "          await google.colab.output.renderOutput(dataTable, element);\n",
              "          const docLink = document.createElement('div');\n",
              "          docLink.innerHTML = docLinkHtml;\n",
              "          element.appendChild(docLink);\n",
              "        }\n",
              "      </script>\n",
              "    </div>\n",
              "  </div>\n",
              "  "
            ]
          },
          "metadata": {},
          "execution_count": 26
        }
      ]
    },
    {
      "cell_type": "code",
      "source": [
        "id = []\n",
        "for i in range(0,8):\n",
        "  id.append(\"Archivo 1: CH{}\".format(i))\n",
        "id"
      ],
      "metadata": {
        "colab": {
          "base_uri": "https://localhost:8080/"
        },
        "id": "qP9y5MT-lBIu",
        "outputId": "5a99f11e-75df-4103-9a78-5c332e478f55"
      },
      "execution_count": null,
      "outputs": [
        {
          "output_type": "execute_result",
          "data": {
            "text/plain": [
              "['Archivo 1: CH0',\n",
              " 'Archivo 1: CH1',\n",
              " 'Archivo 1: CH2',\n",
              " 'Archivo 1: CH3',\n",
              " 'Archivo 1: CH4',\n",
              " 'Archivo 1: CH5',\n",
              " 'Archivo 1: CH6',\n",
              " 'Archivo 1: CH7']"
            ]
          },
          "metadata": {},
          "execution_count": 27
        }
      ]
    },
    {
      "cell_type": "markdown",
      "source": [
        "### Tests"
      ],
      "metadata": {
        "id": "meCdOf69awN6"
      }
    },
    {
      "cell_type": "code",
      "source": [
        "result = computeFunctions(file1);\n"
      ],
      "metadata": {
        "id": "NAk177XPAm4H"
      },
      "execution_count": null,
      "outputs": []
    },
    {
      "cell_type": "code",
      "source": [
        "print(result)"
      ],
      "metadata": {
        "colab": {
          "base_uri": "https://localhost:8080/"
        },
        "id": "t9PWfc4vA2k9",
        "outputId": "eca06569-65f3-48c9-82cb-43f1a2334d38"
      },
      "execution_count": null,
      "outputs": [
        {
          "output_type": "stream",
          "name": "stdout",
          "text": [
            "                    mean       std  kurtosis      skew       rms    max    min\n",
            "Archivo 1: CH0 -0.117158  0.128892  0.557575 -0.040126  0.174181   0.63 -0.808\n",
            "Archivo 1: CH1  -0.11681   0.10638  0.571086  0.065542  0.157991  0.518 -0.632\n",
            "Archivo 1: CH2 -0.117671  0.176177  0.270289  0.071844   0.21186  0.715 -0.806\n",
            "Archivo 1: CH3  -0.11721  0.164022  0.367768 -0.011991  0.201597  0.503 -0.754\n",
            "Archivo 1: CH4  0.129027  0.579418  5.902675  0.067194   0.59361  4.998   -5.0\n",
            "Archivo 1: CH5 -0.115777  0.482299  4.265731  0.026523  0.496001  3.516 -3.833\n",
            "Archivo 1: CH6 -0.115535  0.197923  0.626049 -0.018384  0.229176  0.764  -1.03\n",
            "Archivo 1: CH7 -0.114618  0.175876  0.584465  0.051768  0.209928  0.796 -0.889\n"
          ]
        }
      ]
    },
    {
      "cell_type": "code",
      "source": [
        "prueba = computeFunction(file1, np.mean)"
      ],
      "metadata": {
        "colab": {
          "base_uri": "https://localhost:8080/"
        },
        "id": "j_x7Mxlil_XJ",
        "outputId": "33c57f1e-50dd-42ec-d659-9c2511c287dd"
      },
      "execution_count": null,
      "outputs": [
        {
          "output_type": "stream",
          "name": "stdout",
          "text": [
            "Function applied: <function mean at 0x7f1c208b4af0>\n"
          ]
        }
      ]
    },
    {
      "cell_type": "code",
      "source": [
        "prueba"
      ],
      "metadata": {
        "colab": {
          "base_uri": "https://localhost:8080/"
        },
        "id": "WYE9SWik9WIb",
        "outputId": "51d89a96-4712-44ca-e116-8f59d33f90d2"
      },
      "execution_count": null,
      "outputs": [
        {
          "output_type": "execute_result",
          "data": {
            "text/plain": [
              "[-0.117158154296875,\n",
              " -0.1168099609375,\n",
              " -0.11767128906249999,\n",
              " -0.117210400390625,\n",
              " 0.1290267578125,\n",
              " -0.1157771484375,\n",
              " -0.11553481445312501,\n",
              " -0.114618359375]"
            ]
          },
          "metadata": {},
          "execution_count": 31
        }
      ]
    },
    {
      "cell_type": "code",
      "source": [
        "computeFunction(file1, np.std)"
      ],
      "metadata": {
        "colab": {
          "base_uri": "https://localhost:8080/"
        },
        "id": "Em1t3cWoumKK",
        "outputId": "fe1c285d-0987-46a5-f194-b04b0b36f135"
      },
      "execution_count": null,
      "outputs": [
        {
          "output_type": "stream",
          "name": "stdout",
          "text": [
            "Function applied: <function std at 0x7f1c208b4ca0>\n"
          ]
        },
        {
          "output_type": "execute_result",
          "data": {
            "text/plain": [
              "[0.12889192813209446,\n",
              " 0.10638008497319751,\n",
              " 0.1761768682937003,\n",
              " 0.16402159376713177,\n",
              " 0.5794176170670109,\n",
              " 0.4822990912526361,\n",
              " 0.19792268001549584,\n",
              " 0.17587576113364684]"
            ]
          },
          "metadata": {},
          "execution_count": 32
        }
      ]
    },
    {
      "cell_type": "markdown",
      "source": [
        "Kurtosis determines whether a distribution is heavy-tailed in respect of the normal distribution. It provides information about the shape of a frequency distribution.\n",
        "\n",
        "\n",
        "\n",
        "*   kurtosis for normal distribution is equal to 3.\n",
        "*   For a distribution having kurtosis < 3: It is called playkurtic.\n",
        "*   For a distribution having kurtosis > 3, It is called leptokurtic and it signifies that it tries to produce more outliers rather than the normal distribution.\n",
        "\n",
        "But as this is the Fisher's definiton, instead of 3, its around 0\n",
        "\n",
        "\n"
      ],
      "metadata": {
        "id": "cnxsyuuYwd3U"
      }
    },
    {
      "cell_type": "code",
      "source": [
        "computeFunction(file1, kurtosis)"
      ],
      "metadata": {
        "colab": {
          "base_uri": "https://localhost:8080/"
        },
        "outputId": "44c457f7-66c7-4f6b-edd4-5a491922e424",
        "id": "7cccsNfwu4_L"
      },
      "execution_count": null,
      "outputs": [
        {
          "output_type": "stream",
          "name": "stdout",
          "text": [
            "Function applied: <function kurtosis at 0x7f1bd1963430>\n"
          ]
        },
        {
          "output_type": "execute_result",
          "data": {
            "text/plain": [
              "[0.5575748372320817,\n",
              " 0.571086184576941,\n",
              " 0.2702887667202525,\n",
              " 0.3677675422408475,\n",
              " 5.902675469579055,\n",
              " 4.2657312613533644,\n",
              " 0.6260492622109828,\n",
              " 0.5844654230765194]"
            ]
          },
          "metadata": {},
          "execution_count": 33
        }
      ]
    },
    {
      "cell_type": "markdown",
      "source": [
        "Skewness estimates the asymmetrical behavior rather than computing frequency distribution. Skewness can be two types:\n",
        "\n",
        "* Symmetrical: A distribution can be called symmetric if it appears the same from the left and right from the center point. Then, skewness = 0\n",
        "* Asymmetrical: A distribution can be called asymmetric if it doesn’t appear the same from the left and right from the center point."
      ],
      "metadata": {
        "id": "LaIZeXpUwuaR"
      }
    },
    {
      "cell_type": "code",
      "source": [
        "computeFunction(file1, skew)"
      ],
      "metadata": {
        "colab": {
          "base_uri": "https://localhost:8080/"
        },
        "outputId": "cdb0a7df-71b5-4158-a24e-bb49ad099cdb",
        "id": "_RPtJqFbu5Pz"
      },
      "execution_count": null,
      "outputs": [
        {
          "output_type": "stream",
          "name": "stdout",
          "text": [
            "Function applied: <function skew at 0x7f1bd19633a0>\n"
          ]
        },
        {
          "output_type": "execute_result",
          "data": {
            "text/plain": [
              "[-0.04012632683677568,\n",
              " 0.06554175310140613,\n",
              " 0.0718436803483262,\n",
              " -0.011991040943440072,\n",
              " 0.0671942218961487,\n",
              " 0.026522703698348457,\n",
              " -0.018384064430841264,\n",
              " 0.05176833155723915]"
            ]
          },
          "metadata": {},
          "execution_count": 34
        }
      ]
    },
    {
      "cell_type": "code",
      "source": [
        "computeFunction(file1, rms)"
      ],
      "metadata": {
        "colab": {
          "base_uri": "https://localhost:8080/"
        },
        "outputId": "6ee0b40b-e884-46e4-d509-e42843ebe382",
        "id": "lZl6hFrzu5ar"
      },
      "execution_count": null,
      "outputs": [
        {
          "output_type": "stream",
          "name": "stdout",
          "text": [
            "Function applied: <function rms at 0x7f1bd1002c10>\n"
          ]
        },
        {
          "output_type": "execute_result",
          "data": {
            "text/plain": [
              "[0.17418140617143776,\n",
              " 0.15799142208716585,\n",
              " 0.21186038136330787,\n",
              " 0.2015970267182545,\n",
              " 0.5936098712110663,\n",
              " 0.49600076766416146,\n",
              " 0.2291760908455207,\n",
              " 0.2099277296122555]"
            ]
          },
          "metadata": {},
          "execution_count": 35
        }
      ]
    },
    {
      "cell_type": "code",
      "source": [
        "computeFunction(file1, max)"
      ],
      "metadata": {
        "colab": {
          "base_uri": "https://localhost:8080/"
        },
        "id": "-mtHd-0r0X8W",
        "outputId": "fdee7a23-560e-4ebc-d457-49568b725a33"
      },
      "execution_count": null,
      "outputs": [
        {
          "output_type": "stream",
          "name": "stdout",
          "text": [
            "Function applied: <built-in function max>\n"
          ]
        },
        {
          "output_type": "execute_result",
          "data": {
            "text/plain": [
              "[0.63, 0.518, 0.715, 0.503, 4.998, 3.516, 0.764, 0.796]"
            ]
          },
          "metadata": {},
          "execution_count": 36
        }
      ]
    },
    {
      "cell_type": "code",
      "source": [
        "computeFunction(file1, min)"
      ],
      "metadata": {
        "colab": {
          "base_uri": "https://localhost:8080/"
        },
        "id": "Ik6Pcm2x0gkW",
        "outputId": "d10f1d4f-bd56-4f7b-8977-797322231b7f"
      },
      "execution_count": null,
      "outputs": [
        {
          "output_type": "stream",
          "name": "stdout",
          "text": [
            "Function applied: <built-in function min>\n"
          ]
        },
        {
          "output_type": "execute_result",
          "data": {
            "text/plain": [
              "[-0.808, -0.632, -0.806, -0.754, -5.0, -3.833, -1.03, -0.889]"
            ]
          },
          "metadata": {},
          "execution_count": 37
        }
      ]
    },
    {
      "cell_type": "markdown",
      "source": [
        "## For a lot of files\n"
      ],
      "metadata": {
        "id": "X4JYD-fuSf83"
      }
    },
    {
      "cell_type": "markdown",
      "source": [
        "Like the previous functions, but for more files, so to compare how they change with time"
      ],
      "metadata": {
        "id": "qbnrG15fAibq"
      }
    },
    {
      "cell_type": "markdown",
      "source": [
        "\n",
        "\n",
        "It is very time consuming\n"
      ],
      "metadata": {
        "id": "EsSxRtWgdIrf"
      }
    },
    {
      "cell_type": "code",
      "source": [
        "#   folder_path = '/content/drive/MyDrive/Colab Notebooks/TFG/Trasteo/test1'\n",
        "#   file_list = glob.glob(folder_path + \"/*\")\n",
        "#   main_dataframe = pd.DataFrame(pd.read_table(file_list[0], header = None))\n",
        "#\n",
        "#\n",
        "#   filenames = []\n",
        "#   i = 0\n",
        "#   for path in file_list:\n",
        "#     i = i+1\n",
        "#\n",
        "#     data = pd.read_table(file_list[i], header = None)\n",
        "#     df = pd.DataFrame(data)\n",
        "#     main_dataframe = pd.concat([main_dataframe, df] )#, axis = 1)\n",
        "#     filenames.append(path.split(\"/\")[-1])\n",
        "#\n",
        "#   print(main_dataframe)\n",
        "\n"
      ],
      "metadata": {
        "id": "IYn7v5u_Sjvb"
      },
      "execution_count": null,
      "outputs": []
    },
    {
      "cell_type": "markdown",
      "source": [
        "Another approach: Read a file, compute everything and repeat"
      ],
      "metadata": {
        "id": "KLJ6w7S8YPj7"
      }
    },
    {
      "cell_type": "code",
      "source": [
        "folder_path = '/content/drive/MyDrive/Colab Notebooks/TFG/Trasteo/test1'\n",
        "file_list = glob.glob(folder_path + \"/*\")\n",
        "\n",
        "\n",
        "df = pd.DataFrame(pd.read_table(file_list[0], header = None))\n",
        "res = computeFunctions(df, filename = \"Archivo 1\")\n",
        "print(res)"
      ],
      "metadata": {
        "colab": {
          "base_uri": "https://localhost:8080/"
        },
        "id": "u1QNmGouYbqT",
        "outputId": "56d894d5-686d-47e1-af94-acdbfbb58811"
      },
      "execution_count": null,
      "outputs": [
        {
          "output_type": "stream",
          "name": "stdout",
          "text": [
            "                    mean       std  kurtosis      skew       rms    max    min\n",
            "Archivo 1: CH0 -0.118469  0.097826  0.879857 -0.039519  0.153639  0.483 -0.688\n",
            "Archivo 1: CH1 -0.119506  0.089263  1.140088  0.090826  0.149163  0.654 -0.654\n",
            "Archivo 1: CH2  -0.11776  0.092779  0.315984 -0.061028  0.149918   0.31 -0.791\n",
            "Archivo 1: CH3 -0.118254   0.07583  0.362793  -0.01728  0.140479  0.234 -0.508\n",
            "Archivo 1: CH4 -0.115443  0.113252  0.568761  0.024861  0.161719  0.461 -0.698\n",
            "Archivo 1: CH5 -0.115118  0.119898  0.555058 -0.016134  0.166215  0.522 -0.884\n",
            "Archivo 1: CH6 -0.114694  0.076305  0.698221 -0.004425  0.137758  0.291 -0.571\n",
            "Archivo 1: CH7 -0.113825  0.079905   0.62012  0.001561  0.139072   0.32 -0.503\n"
          ]
        }
      ]
    },
    {
      "cell_type": "code",
      "source": [
        "for i in range(1, 10): #len(file_list)\n",
        "  df = computeFunctions(\n",
        "      pd.DataFrame(pd.read_table(file_list[i], header = None)),\n",
        "      filename = \"Archivo {}\".format(i+1)\n",
        "  )\n",
        "  res = res.append(df)\n",
        "  print(\"Progress: {}/{}\".format(i+1,10))\n",
        "\n"
      ],
      "metadata": {
        "colab": {
          "base_uri": "https://localhost:8080/"
        },
        "id": "ScmYbVwCgGpR",
        "outputId": "ecd9dd4f-d9ae-4106-901f-2e92a11c3e4d"
      },
      "execution_count": null,
      "outputs": [
        {
          "output_type": "stream",
          "name": "stdout",
          "text": [
            "Progress: 2/10\n",
            "Progress: 3/10\n",
            "Progress: 4/10\n",
            "Progress: 5/10\n",
            "Progress: 6/10\n",
            "Progress: 7/10\n",
            "Progress: 8/10\n",
            "Progress: 9/10\n",
            "Progress: 10/10\n"
          ]
        }
      ]
    },
    {
      "cell_type": "code",
      "source": [
        "res"
      ],
      "metadata": {
        "colab": {
          "base_uri": "https://localhost:8080/"
        },
        "id": "eaAnwmhzhiOY",
        "outputId": "4b3bc655-ad28-47ea-92a7-b9d4e16c984f"
      },
      "execution_count": null,
      "outputs": [
        {
          "output_type": "execute_result",
          "data": {
            "text/plain": [
              "                     mean       std  kurtosis      skew       rms    max  \\\n",
              "Archivo 1: CH0  -0.118469  0.097826  0.879857 -0.039519  0.153639  0.483   \n",
              "Archivo 1: CH1  -0.119506  0.089263  1.140088  0.090826  0.149163  0.654   \n",
              "Archivo 1: CH2   -0.11776  0.092779  0.315984 -0.061028  0.149918   0.31   \n",
              "Archivo 1: CH3  -0.118254   0.07583  0.362793  -0.01728  0.140479  0.234   \n",
              "Archivo 1: CH4  -0.115443  0.113252  0.568761  0.024861  0.161719  0.461   \n",
              "...                   ...       ...       ...       ...       ...    ...   \n",
              "Archivo 10: CH3 -0.116743  0.075809  0.510618 -0.031597  0.139197  0.317   \n",
              "Archivo 10: CH4 -0.113397  0.113908  0.598173  0.049803  0.160729  0.544   \n",
              "Archivo 10: CH5 -0.113073   0.11779  0.465862  0.009958  0.163279  0.544   \n",
              "Archivo 10: CH6 -0.114098  0.071734  0.898533 -0.041657  0.134774  0.249   \n",
              "Archivo 10: CH7  -0.11251  0.078618  1.374239  0.009803  0.137257  0.398   \n",
              "\n",
              "                   min  \n",
              "Archivo 1: CH0  -0.688  \n",
              "Archivo 1: CH1  -0.654  \n",
              "Archivo 1: CH2  -0.791  \n",
              "Archivo 1: CH3  -0.508  \n",
              "Archivo 1: CH4  -0.698  \n",
              "...                ...  \n",
              "Archivo 10: CH3 -0.583  \n",
              "Archivo 10: CH4 -0.818  \n",
              "Archivo 10: CH5  -0.72  \n",
              "Archivo 10: CH6 -0.527  \n",
              "Archivo 10: CH7 -0.688  \n",
              "\n",
              "[80 rows x 7 columns]"
            ],
            "text/html": [
              "\n",
              "  <div id=\"df-b827db50-9bb1-4e26-927b-c4cdff7ef4d6\">\n",
              "    <div class=\"colab-df-container\">\n",
              "      <div>\n",
              "<style scoped>\n",
              "    .dataframe tbody tr th:only-of-type {\n",
              "        vertical-align: middle;\n",
              "    }\n",
              "\n",
              "    .dataframe tbody tr th {\n",
              "        vertical-align: top;\n",
              "    }\n",
              "\n",
              "    .dataframe thead th {\n",
              "        text-align: right;\n",
              "    }\n",
              "</style>\n",
              "<table border=\"1\" class=\"dataframe\">\n",
              "  <thead>\n",
              "    <tr style=\"text-align: right;\">\n",
              "      <th></th>\n",
              "      <th>mean</th>\n",
              "      <th>std</th>\n",
              "      <th>kurtosis</th>\n",
              "      <th>skew</th>\n",
              "      <th>rms</th>\n",
              "      <th>max</th>\n",
              "      <th>min</th>\n",
              "    </tr>\n",
              "  </thead>\n",
              "  <tbody>\n",
              "    <tr>\n",
              "      <th>Archivo 1: CH0</th>\n",
              "      <td>-0.118469</td>\n",
              "      <td>0.097826</td>\n",
              "      <td>0.879857</td>\n",
              "      <td>-0.039519</td>\n",
              "      <td>0.153639</td>\n",
              "      <td>0.483</td>\n",
              "      <td>-0.688</td>\n",
              "    </tr>\n",
              "    <tr>\n",
              "      <th>Archivo 1: CH1</th>\n",
              "      <td>-0.119506</td>\n",
              "      <td>0.089263</td>\n",
              "      <td>1.140088</td>\n",
              "      <td>0.090826</td>\n",
              "      <td>0.149163</td>\n",
              "      <td>0.654</td>\n",
              "      <td>-0.654</td>\n",
              "    </tr>\n",
              "    <tr>\n",
              "      <th>Archivo 1: CH2</th>\n",
              "      <td>-0.11776</td>\n",
              "      <td>0.092779</td>\n",
              "      <td>0.315984</td>\n",
              "      <td>-0.061028</td>\n",
              "      <td>0.149918</td>\n",
              "      <td>0.31</td>\n",
              "      <td>-0.791</td>\n",
              "    </tr>\n",
              "    <tr>\n",
              "      <th>Archivo 1: CH3</th>\n",
              "      <td>-0.118254</td>\n",
              "      <td>0.07583</td>\n",
              "      <td>0.362793</td>\n",
              "      <td>-0.01728</td>\n",
              "      <td>0.140479</td>\n",
              "      <td>0.234</td>\n",
              "      <td>-0.508</td>\n",
              "    </tr>\n",
              "    <tr>\n",
              "      <th>Archivo 1: CH4</th>\n",
              "      <td>-0.115443</td>\n",
              "      <td>0.113252</td>\n",
              "      <td>0.568761</td>\n",
              "      <td>0.024861</td>\n",
              "      <td>0.161719</td>\n",
              "      <td>0.461</td>\n",
              "      <td>-0.698</td>\n",
              "    </tr>\n",
              "    <tr>\n",
              "      <th>...</th>\n",
              "      <td>...</td>\n",
              "      <td>...</td>\n",
              "      <td>...</td>\n",
              "      <td>...</td>\n",
              "      <td>...</td>\n",
              "      <td>...</td>\n",
              "      <td>...</td>\n",
              "    </tr>\n",
              "    <tr>\n",
              "      <th>Archivo 10: CH3</th>\n",
              "      <td>-0.116743</td>\n",
              "      <td>0.075809</td>\n",
              "      <td>0.510618</td>\n",
              "      <td>-0.031597</td>\n",
              "      <td>0.139197</td>\n",
              "      <td>0.317</td>\n",
              "      <td>-0.583</td>\n",
              "    </tr>\n",
              "    <tr>\n",
              "      <th>Archivo 10: CH4</th>\n",
              "      <td>-0.113397</td>\n",
              "      <td>0.113908</td>\n",
              "      <td>0.598173</td>\n",
              "      <td>0.049803</td>\n",
              "      <td>0.160729</td>\n",
              "      <td>0.544</td>\n",
              "      <td>-0.818</td>\n",
              "    </tr>\n",
              "    <tr>\n",
              "      <th>Archivo 10: CH5</th>\n",
              "      <td>-0.113073</td>\n",
              "      <td>0.11779</td>\n",
              "      <td>0.465862</td>\n",
              "      <td>0.009958</td>\n",
              "      <td>0.163279</td>\n",
              "      <td>0.544</td>\n",
              "      <td>-0.72</td>\n",
              "    </tr>\n",
              "    <tr>\n",
              "      <th>Archivo 10: CH6</th>\n",
              "      <td>-0.114098</td>\n",
              "      <td>0.071734</td>\n",
              "      <td>0.898533</td>\n",
              "      <td>-0.041657</td>\n",
              "      <td>0.134774</td>\n",
              "      <td>0.249</td>\n",
              "      <td>-0.527</td>\n",
              "    </tr>\n",
              "    <tr>\n",
              "      <th>Archivo 10: CH7</th>\n",
              "      <td>-0.11251</td>\n",
              "      <td>0.078618</td>\n",
              "      <td>1.374239</td>\n",
              "      <td>0.009803</td>\n",
              "      <td>0.137257</td>\n",
              "      <td>0.398</td>\n",
              "      <td>-0.688</td>\n",
              "    </tr>\n",
              "  </tbody>\n",
              "</table>\n",
              "<p>80 rows × 7 columns</p>\n",
              "</div>\n",
              "      <button class=\"colab-df-convert\" onclick=\"convertToInteractive('df-b827db50-9bb1-4e26-927b-c4cdff7ef4d6')\"\n",
              "              title=\"Convert this dataframe to an interactive table.\"\n",
              "              style=\"display:none;\">\n",
              "        \n",
              "  <svg xmlns=\"http://www.w3.org/2000/svg\" height=\"24px\"viewBox=\"0 0 24 24\"\n",
              "       width=\"24px\">\n",
              "    <path d=\"M0 0h24v24H0V0z\" fill=\"none\"/>\n",
              "    <path d=\"M18.56 5.44l.94 2.06.94-2.06 2.06-.94-2.06-.94-.94-2.06-.94 2.06-2.06.94zm-11 1L8.5 8.5l.94-2.06 2.06-.94-2.06-.94L8.5 2.5l-.94 2.06-2.06.94zm10 10l.94 2.06.94-2.06 2.06-.94-2.06-.94-.94-2.06-.94 2.06-2.06.94z\"/><path d=\"M17.41 7.96l-1.37-1.37c-.4-.4-.92-.59-1.43-.59-.52 0-1.04.2-1.43.59L10.3 9.45l-7.72 7.72c-.78.78-.78 2.05 0 2.83L4 21.41c.39.39.9.59 1.41.59.51 0 1.02-.2 1.41-.59l7.78-7.78 2.81-2.81c.8-.78.8-2.07 0-2.86zM5.41 20L4 18.59l7.72-7.72 1.47 1.35L5.41 20z\"/>\n",
              "  </svg>\n",
              "      </button>\n",
              "      \n",
              "  <style>\n",
              "    .colab-df-container {\n",
              "      display:flex;\n",
              "      flex-wrap:wrap;\n",
              "      gap: 12px;\n",
              "    }\n",
              "\n",
              "    .colab-df-convert {\n",
              "      background-color: #E8F0FE;\n",
              "      border: none;\n",
              "      border-radius: 50%;\n",
              "      cursor: pointer;\n",
              "      display: none;\n",
              "      fill: #1967D2;\n",
              "      height: 32px;\n",
              "      padding: 0 0 0 0;\n",
              "      width: 32px;\n",
              "    }\n",
              "\n",
              "    .colab-df-convert:hover {\n",
              "      background-color: #E2EBFA;\n",
              "      box-shadow: 0px 1px 2px rgba(60, 64, 67, 0.3), 0px 1px 3px 1px rgba(60, 64, 67, 0.15);\n",
              "      fill: #174EA6;\n",
              "    }\n",
              "\n",
              "    [theme=dark] .colab-df-convert {\n",
              "      background-color: #3B4455;\n",
              "      fill: #D2E3FC;\n",
              "    }\n",
              "\n",
              "    [theme=dark] .colab-df-convert:hover {\n",
              "      background-color: #434B5C;\n",
              "      box-shadow: 0px 1px 3px 1px rgba(0, 0, 0, 0.15);\n",
              "      filter: drop-shadow(0px 1px 2px rgba(0, 0, 0, 0.3));\n",
              "      fill: #FFFFFF;\n",
              "    }\n",
              "  </style>\n",
              "\n",
              "      <script>\n",
              "        const buttonEl =\n",
              "          document.querySelector('#df-b827db50-9bb1-4e26-927b-c4cdff7ef4d6 button.colab-df-convert');\n",
              "        buttonEl.style.display =\n",
              "          google.colab.kernel.accessAllowed ? 'block' : 'none';\n",
              "\n",
              "        async function convertToInteractive(key) {\n",
              "          const element = document.querySelector('#df-b827db50-9bb1-4e26-927b-c4cdff7ef4d6');\n",
              "          const dataTable =\n",
              "            await google.colab.kernel.invokeFunction('convertToInteractive',\n",
              "                                                     [key], {});\n",
              "          if (!dataTable) return;\n",
              "\n",
              "          const docLinkHtml = 'Like what you see? Visit the ' +\n",
              "            '<a target=\"_blank\" href=https://colab.research.google.com/notebooks/data_table.ipynb>data table notebook</a>'\n",
              "            + ' to learn more about interactive tables.';\n",
              "          element.innerHTML = '';\n",
              "          dataTable['output_type'] = 'display_data';\n",
              "          await google.colab.output.renderOutput(dataTable, element);\n",
              "          const docLink = document.createElement('div');\n",
              "          docLink.innerHTML = docLinkHtml;\n",
              "          element.appendChild(docLink);\n",
              "        }\n",
              "      </script>\n",
              "    </div>\n",
              "  </div>\n",
              "  "
            ]
          },
          "metadata": {},
          "execution_count": 41
        }
      ]
    },
    {
      "cell_type": "code",
      "source": [
        "len(file_list)"
      ],
      "metadata": {
        "colab": {
          "base_uri": "https://localhost:8080/"
        },
        "id": "KrLe9vrmk3gU",
        "outputId": "31049c3b-8f5f-4df4-9fa1-2aa5d01ac349"
      },
      "execution_count": null,
      "outputs": [
        {
          "output_type": "execute_result",
          "data": {
            "text/plain": [
              "2156"
            ]
          },
          "metadata": {},
          "execution_count": 42
        }
      ]
    },
    {
      "cell_type": "code",
      "source": [
        "def computeFiles(path, amount = -1):\n",
        "  folder_path = path\n",
        "  file_list = glob.glob(folder_path + \"/*\")\n",
        "\n",
        "  filenames = []\n",
        "  for filepath in file_list:\n",
        "    filenames.append(path.split(\"/\")[-1])\n",
        "\n",
        "  df = pd.DataFrame(pd.read_table(file_list[0], header = None))\n",
        "  res = computeFunctions(df, filename = filenames[0])\n",
        "\n",
        "  if (amount <0 or amount > len(file_list)):\n",
        "    amount = len(file_list)\n",
        "\n",
        "  for i in range(1, amount):\n",
        "    temp_df = computeFunctions(\n",
        "        pd.DataFrame(pd.read_table(file_list[i], header = None)),\n",
        "        filename = filenames[i]\n",
        "    )\n",
        "    res = res.append(temp_df)\n",
        "    print(\"Progress: {}/{}\".format(i+1,amount))\n",
        "\n",
        "  return res\n"
      ],
      "metadata": {
        "id": "sXbDsc2slFsQ"
      },
      "execution_count": null,
      "outputs": []
    },
    {
      "cell_type": "markdown",
      "source": [
        "It takes a lot of time, so better not to test it with too many"
      ],
      "metadata": {
        "id": "To7SRIj4uVZp"
      }
    },
    {
      "cell_type": "code",
      "source": [
        "result = computeFiles('/content/drive/MyDrive/Colab Notebooks/TFG/Trasteo/test1', amount = 10)"
      ],
      "metadata": {
        "id": "JfMPS4_MtgEp",
        "colab": {
          "base_uri": "https://localhost:8080/"
        },
        "outputId": "8d9834af-e907-4d70-91d5-73b134c11437"
      },
      "execution_count": null,
      "outputs": [
        {
          "output_type": "stream",
          "name": "stdout",
          "text": [
            "Progress: 2/10\n",
            "Progress: 3/10\n",
            "Progress: 4/10\n",
            "Progress: 5/10\n",
            "Progress: 6/10\n",
            "Progress: 7/10\n",
            "Progress: 8/10\n",
            "Progress: 9/10\n",
            "Progress: 10/10\n"
          ]
        }
      ]
    },
    {
      "cell_type": "code",
      "source": [
        "result"
      ],
      "metadata": {
        "id": "ErLdZSgaub0w",
        "colab": {
          "base_uri": "https://localhost:8080/"
        },
        "outputId": "74c1fcc6-437e-4e98-e315-41b4c715aa63"
      },
      "execution_count": null,
      "outputs": [
        {
          "output_type": "execute_result",
          "data": {
            "text/plain": [
              "                mean       std  kurtosis      skew       rms    max    min\n",
              "test1: CH0 -0.118469  0.097826  0.879857 -0.039519  0.153639  0.483 -0.688\n",
              "test1: CH1 -0.119506  0.089263  1.140088  0.090826  0.149163  0.654 -0.654\n",
              "test1: CH2  -0.11776  0.092779  0.315984 -0.061028  0.149918   0.31 -0.791\n",
              "test1: CH3 -0.118254   0.07583  0.362793  -0.01728  0.140479  0.234 -0.508\n",
              "test1: CH4 -0.115443  0.113252  0.568761  0.024861  0.161719  0.461 -0.698\n",
              "...              ...       ...       ...       ...       ...    ...    ...\n",
              "test1: CH3 -0.116743  0.075809  0.510618 -0.031597  0.139197  0.317 -0.583\n",
              "test1: CH4 -0.113397  0.113908  0.598173  0.049803  0.160729  0.544 -0.818\n",
              "test1: CH5 -0.113073   0.11779  0.465862  0.009958  0.163279  0.544  -0.72\n",
              "test1: CH6 -0.114098  0.071734  0.898533 -0.041657  0.134774  0.249 -0.527\n",
              "test1: CH7  -0.11251  0.078618  1.374239  0.009803  0.137257  0.398 -0.688\n",
              "\n",
              "[80 rows x 7 columns]"
            ],
            "text/html": [
              "\n",
              "  <div id=\"df-4d8caac6-995d-45dd-8f3e-aef53dd6a119\">\n",
              "    <div class=\"colab-df-container\">\n",
              "      <div>\n",
              "<style scoped>\n",
              "    .dataframe tbody tr th:only-of-type {\n",
              "        vertical-align: middle;\n",
              "    }\n",
              "\n",
              "    .dataframe tbody tr th {\n",
              "        vertical-align: top;\n",
              "    }\n",
              "\n",
              "    .dataframe thead th {\n",
              "        text-align: right;\n",
              "    }\n",
              "</style>\n",
              "<table border=\"1\" class=\"dataframe\">\n",
              "  <thead>\n",
              "    <tr style=\"text-align: right;\">\n",
              "      <th></th>\n",
              "      <th>mean</th>\n",
              "      <th>std</th>\n",
              "      <th>kurtosis</th>\n",
              "      <th>skew</th>\n",
              "      <th>rms</th>\n",
              "      <th>max</th>\n",
              "      <th>min</th>\n",
              "    </tr>\n",
              "  </thead>\n",
              "  <tbody>\n",
              "    <tr>\n",
              "      <th>test1: CH0</th>\n",
              "      <td>-0.118469</td>\n",
              "      <td>0.097826</td>\n",
              "      <td>0.879857</td>\n",
              "      <td>-0.039519</td>\n",
              "      <td>0.153639</td>\n",
              "      <td>0.483</td>\n",
              "      <td>-0.688</td>\n",
              "    </tr>\n",
              "    <tr>\n",
              "      <th>test1: CH1</th>\n",
              "      <td>-0.119506</td>\n",
              "      <td>0.089263</td>\n",
              "      <td>1.140088</td>\n",
              "      <td>0.090826</td>\n",
              "      <td>0.149163</td>\n",
              "      <td>0.654</td>\n",
              "      <td>-0.654</td>\n",
              "    </tr>\n",
              "    <tr>\n",
              "      <th>test1: CH2</th>\n",
              "      <td>-0.11776</td>\n",
              "      <td>0.092779</td>\n",
              "      <td>0.315984</td>\n",
              "      <td>-0.061028</td>\n",
              "      <td>0.149918</td>\n",
              "      <td>0.31</td>\n",
              "      <td>-0.791</td>\n",
              "    </tr>\n",
              "    <tr>\n",
              "      <th>test1: CH3</th>\n",
              "      <td>-0.118254</td>\n",
              "      <td>0.07583</td>\n",
              "      <td>0.362793</td>\n",
              "      <td>-0.01728</td>\n",
              "      <td>0.140479</td>\n",
              "      <td>0.234</td>\n",
              "      <td>-0.508</td>\n",
              "    </tr>\n",
              "    <tr>\n",
              "      <th>test1: CH4</th>\n",
              "      <td>-0.115443</td>\n",
              "      <td>0.113252</td>\n",
              "      <td>0.568761</td>\n",
              "      <td>0.024861</td>\n",
              "      <td>0.161719</td>\n",
              "      <td>0.461</td>\n",
              "      <td>-0.698</td>\n",
              "    </tr>\n",
              "    <tr>\n",
              "      <th>...</th>\n",
              "      <td>...</td>\n",
              "      <td>...</td>\n",
              "      <td>...</td>\n",
              "      <td>...</td>\n",
              "      <td>...</td>\n",
              "      <td>...</td>\n",
              "      <td>...</td>\n",
              "    </tr>\n",
              "    <tr>\n",
              "      <th>test1: CH3</th>\n",
              "      <td>-0.116743</td>\n",
              "      <td>0.075809</td>\n",
              "      <td>0.510618</td>\n",
              "      <td>-0.031597</td>\n",
              "      <td>0.139197</td>\n",
              "      <td>0.317</td>\n",
              "      <td>-0.583</td>\n",
              "    </tr>\n",
              "    <tr>\n",
              "      <th>test1: CH4</th>\n",
              "      <td>-0.113397</td>\n",
              "      <td>0.113908</td>\n",
              "      <td>0.598173</td>\n",
              "      <td>0.049803</td>\n",
              "      <td>0.160729</td>\n",
              "      <td>0.544</td>\n",
              "      <td>-0.818</td>\n",
              "    </tr>\n",
              "    <tr>\n",
              "      <th>test1: CH5</th>\n",
              "      <td>-0.113073</td>\n",
              "      <td>0.11779</td>\n",
              "      <td>0.465862</td>\n",
              "      <td>0.009958</td>\n",
              "      <td>0.163279</td>\n",
              "      <td>0.544</td>\n",
              "      <td>-0.72</td>\n",
              "    </tr>\n",
              "    <tr>\n",
              "      <th>test1: CH6</th>\n",
              "      <td>-0.114098</td>\n",
              "      <td>0.071734</td>\n",
              "      <td>0.898533</td>\n",
              "      <td>-0.041657</td>\n",
              "      <td>0.134774</td>\n",
              "      <td>0.249</td>\n",
              "      <td>-0.527</td>\n",
              "    </tr>\n",
              "    <tr>\n",
              "      <th>test1: CH7</th>\n",
              "      <td>-0.11251</td>\n",
              "      <td>0.078618</td>\n",
              "      <td>1.374239</td>\n",
              "      <td>0.009803</td>\n",
              "      <td>0.137257</td>\n",
              "      <td>0.398</td>\n",
              "      <td>-0.688</td>\n",
              "    </tr>\n",
              "  </tbody>\n",
              "</table>\n",
              "<p>80 rows × 7 columns</p>\n",
              "</div>\n",
              "      <button class=\"colab-df-convert\" onclick=\"convertToInteractive('df-4d8caac6-995d-45dd-8f3e-aef53dd6a119')\"\n",
              "              title=\"Convert this dataframe to an interactive table.\"\n",
              "              style=\"display:none;\">\n",
              "        \n",
              "  <svg xmlns=\"http://www.w3.org/2000/svg\" height=\"24px\"viewBox=\"0 0 24 24\"\n",
              "       width=\"24px\">\n",
              "    <path d=\"M0 0h24v24H0V0z\" fill=\"none\"/>\n",
              "    <path d=\"M18.56 5.44l.94 2.06.94-2.06 2.06-.94-2.06-.94-.94-2.06-.94 2.06-2.06.94zm-11 1L8.5 8.5l.94-2.06 2.06-.94-2.06-.94L8.5 2.5l-.94 2.06-2.06.94zm10 10l.94 2.06.94-2.06 2.06-.94-2.06-.94-.94-2.06-.94 2.06-2.06.94z\"/><path d=\"M17.41 7.96l-1.37-1.37c-.4-.4-.92-.59-1.43-.59-.52 0-1.04.2-1.43.59L10.3 9.45l-7.72 7.72c-.78.78-.78 2.05 0 2.83L4 21.41c.39.39.9.59 1.41.59.51 0 1.02-.2 1.41-.59l7.78-7.78 2.81-2.81c.8-.78.8-2.07 0-2.86zM5.41 20L4 18.59l7.72-7.72 1.47 1.35L5.41 20z\"/>\n",
              "  </svg>\n",
              "      </button>\n",
              "      \n",
              "  <style>\n",
              "    .colab-df-container {\n",
              "      display:flex;\n",
              "      flex-wrap:wrap;\n",
              "      gap: 12px;\n",
              "    }\n",
              "\n",
              "    .colab-df-convert {\n",
              "      background-color: #E8F0FE;\n",
              "      border: none;\n",
              "      border-radius: 50%;\n",
              "      cursor: pointer;\n",
              "      display: none;\n",
              "      fill: #1967D2;\n",
              "      height: 32px;\n",
              "      padding: 0 0 0 0;\n",
              "      width: 32px;\n",
              "    }\n",
              "\n",
              "    .colab-df-convert:hover {\n",
              "      background-color: #E2EBFA;\n",
              "      box-shadow: 0px 1px 2px rgba(60, 64, 67, 0.3), 0px 1px 3px 1px rgba(60, 64, 67, 0.15);\n",
              "      fill: #174EA6;\n",
              "    }\n",
              "\n",
              "    [theme=dark] .colab-df-convert {\n",
              "      background-color: #3B4455;\n",
              "      fill: #D2E3FC;\n",
              "    }\n",
              "\n",
              "    [theme=dark] .colab-df-convert:hover {\n",
              "      background-color: #434B5C;\n",
              "      box-shadow: 0px 1px 3px 1px rgba(0, 0, 0, 0.15);\n",
              "      filter: drop-shadow(0px 1px 2px rgba(0, 0, 0, 0.3));\n",
              "      fill: #FFFFFF;\n",
              "    }\n",
              "  </style>\n",
              "\n",
              "      <script>\n",
              "        const buttonEl =\n",
              "          document.querySelector('#df-4d8caac6-995d-45dd-8f3e-aef53dd6a119 button.colab-df-convert');\n",
              "        buttonEl.style.display =\n",
              "          google.colab.kernel.accessAllowed ? 'block' : 'none';\n",
              "\n",
              "        async function convertToInteractive(key) {\n",
              "          const element = document.querySelector('#df-4d8caac6-995d-45dd-8f3e-aef53dd6a119');\n",
              "          const dataTable =\n",
              "            await google.colab.kernel.invokeFunction('convertToInteractive',\n",
              "                                                     [key], {});\n",
              "          if (!dataTable) return;\n",
              "\n",
              "          const docLinkHtml = 'Like what you see? Visit the ' +\n",
              "            '<a target=\"_blank\" href=https://colab.research.google.com/notebooks/data_table.ipynb>data table notebook</a>'\n",
              "            + ' to learn more about interactive tables.';\n",
              "          element.innerHTML = '';\n",
              "          dataTable['output_type'] = 'display_data';\n",
              "          await google.colab.output.renderOutput(dataTable, element);\n",
              "          const docLink = document.createElement('div');\n",
              "          docLink.innerHTML = docLinkHtml;\n",
              "          element.appendChild(docLink);\n",
              "        }\n",
              "      </script>\n",
              "    </div>\n",
              "  </div>\n",
              "  "
            ]
          },
          "metadata": {},
          "execution_count": 45
        }
      ]
    },
    {
      "cell_type": "markdown",
      "source": [
        "# FFT\n",
        "First steps into how to make this transformation.\n",
        "[Info about how to use scipy.fft](https://realpython.com/python-scipy-fft/)"
      ],
      "metadata": {
        "id": "NmkouHv5NTNS"
      }
    },
    {
      "cell_type": "code",
      "source": [
        "df, names = readFiles('/content/drive/MyDrive/Colab Notebooks/TFG/Trasteo/10Archivos')"
      ],
      "metadata": {
        "id": "Xl5TYF6ok9lk"
      },
      "execution_count": null,
      "outputs": []
    },
    {
      "cell_type": "code",
      "source": [
        "df"
      ],
      "metadata": {
        "colab": {
          "base_uri": "https://localhost:8080/",
          "height": 424
        },
        "id": "ARWb5JKztaR8",
        "outputId": "1db571d0-904d-4c7e-f619-93c53e9f6635"
      },
      "execution_count": null,
      "outputs": [
        {
          "output_type": "execute_result",
          "data": {
            "text/plain": [
              "           0      1      2      3      4      5      6      7\n",
              "0     -0.022 -0.039 -0.183 -0.054 -0.105 -0.134 -0.129 -0.142\n",
              "1     -0.105 -0.017 -0.164 -0.183 -0.049  0.029 -0.115 -0.122\n",
              "2     -0.183 -0.098 -0.195 -0.125 -0.005 -0.007 -0.171 -0.071\n",
              "3     -0.178 -0.161 -0.159 -0.178 -0.100 -0.115 -0.112 -0.078\n",
              "4     -0.208 -0.129 -0.261 -0.098 -0.151 -0.205 -0.063 -0.066\n",
              "...      ...    ...    ...    ...    ...    ...    ...    ...\n",
              "20475 -0.142 -0.090  0.059 -0.049 -0.051 -0.010 -0.039  0.022\n",
              "20476 -0.059 -0.178  0.005 -0.073  0.022 -0.212 -0.063 -0.037\n",
              "20477 -0.076 -0.156 -0.151 -0.110 -0.007 -0.200 -0.059 -0.022\n",
              "20478 -0.139 -0.046 -0.176 -0.081 -0.176 -0.142 -0.066  0.017\n",
              "20479 -0.229  0.054 -0.225 -0.144 -0.054 -0.068 -0.078 -0.007\n",
              "\n",
              "[204800 rows x 8 columns]"
            ],
            "text/html": [
              "\n",
              "  <div id=\"df-cb10ba41-dc7f-46fe-ae0b-3ca860c68285\">\n",
              "    <div class=\"colab-df-container\">\n",
              "      <div>\n",
              "<style scoped>\n",
              "    .dataframe tbody tr th:only-of-type {\n",
              "        vertical-align: middle;\n",
              "    }\n",
              "\n",
              "    .dataframe tbody tr th {\n",
              "        vertical-align: top;\n",
              "    }\n",
              "\n",
              "    .dataframe thead th {\n",
              "        text-align: right;\n",
              "    }\n",
              "</style>\n",
              "<table border=\"1\" class=\"dataframe\">\n",
              "  <thead>\n",
              "    <tr style=\"text-align: right;\">\n",
              "      <th></th>\n",
              "      <th>0</th>\n",
              "      <th>1</th>\n",
              "      <th>2</th>\n",
              "      <th>3</th>\n",
              "      <th>4</th>\n",
              "      <th>5</th>\n",
              "      <th>6</th>\n",
              "      <th>7</th>\n",
              "    </tr>\n",
              "  </thead>\n",
              "  <tbody>\n",
              "    <tr>\n",
              "      <th>0</th>\n",
              "      <td>-0.022</td>\n",
              "      <td>-0.039</td>\n",
              "      <td>-0.183</td>\n",
              "      <td>-0.054</td>\n",
              "      <td>-0.105</td>\n",
              "      <td>-0.134</td>\n",
              "      <td>-0.129</td>\n",
              "      <td>-0.142</td>\n",
              "    </tr>\n",
              "    <tr>\n",
              "      <th>1</th>\n",
              "      <td>-0.105</td>\n",
              "      <td>-0.017</td>\n",
              "      <td>-0.164</td>\n",
              "      <td>-0.183</td>\n",
              "      <td>-0.049</td>\n",
              "      <td>0.029</td>\n",
              "      <td>-0.115</td>\n",
              "      <td>-0.122</td>\n",
              "    </tr>\n",
              "    <tr>\n",
              "      <th>2</th>\n",
              "      <td>-0.183</td>\n",
              "      <td>-0.098</td>\n",
              "      <td>-0.195</td>\n",
              "      <td>-0.125</td>\n",
              "      <td>-0.005</td>\n",
              "      <td>-0.007</td>\n",
              "      <td>-0.171</td>\n",
              "      <td>-0.071</td>\n",
              "    </tr>\n",
              "    <tr>\n",
              "      <th>3</th>\n",
              "      <td>-0.178</td>\n",
              "      <td>-0.161</td>\n",
              "      <td>-0.159</td>\n",
              "      <td>-0.178</td>\n",
              "      <td>-0.100</td>\n",
              "      <td>-0.115</td>\n",
              "      <td>-0.112</td>\n",
              "      <td>-0.078</td>\n",
              "    </tr>\n",
              "    <tr>\n",
              "      <th>4</th>\n",
              "      <td>-0.208</td>\n",
              "      <td>-0.129</td>\n",
              "      <td>-0.261</td>\n",
              "      <td>-0.098</td>\n",
              "      <td>-0.151</td>\n",
              "      <td>-0.205</td>\n",
              "      <td>-0.063</td>\n",
              "      <td>-0.066</td>\n",
              "    </tr>\n",
              "    <tr>\n",
              "      <th>...</th>\n",
              "      <td>...</td>\n",
              "      <td>...</td>\n",
              "      <td>...</td>\n",
              "      <td>...</td>\n",
              "      <td>...</td>\n",
              "      <td>...</td>\n",
              "      <td>...</td>\n",
              "      <td>...</td>\n",
              "    </tr>\n",
              "    <tr>\n",
              "      <th>20475</th>\n",
              "      <td>-0.142</td>\n",
              "      <td>-0.090</td>\n",
              "      <td>0.059</td>\n",
              "      <td>-0.049</td>\n",
              "      <td>-0.051</td>\n",
              "      <td>-0.010</td>\n",
              "      <td>-0.039</td>\n",
              "      <td>0.022</td>\n",
              "    </tr>\n",
              "    <tr>\n",
              "      <th>20476</th>\n",
              "      <td>-0.059</td>\n",
              "      <td>-0.178</td>\n",
              "      <td>0.005</td>\n",
              "      <td>-0.073</td>\n",
              "      <td>0.022</td>\n",
              "      <td>-0.212</td>\n",
              "      <td>-0.063</td>\n",
              "      <td>-0.037</td>\n",
              "    </tr>\n",
              "    <tr>\n",
              "      <th>20477</th>\n",
              "      <td>-0.076</td>\n",
              "      <td>-0.156</td>\n",
              "      <td>-0.151</td>\n",
              "      <td>-0.110</td>\n",
              "      <td>-0.007</td>\n",
              "      <td>-0.200</td>\n",
              "      <td>-0.059</td>\n",
              "      <td>-0.022</td>\n",
              "    </tr>\n",
              "    <tr>\n",
              "      <th>20478</th>\n",
              "      <td>-0.139</td>\n",
              "      <td>-0.046</td>\n",
              "      <td>-0.176</td>\n",
              "      <td>-0.081</td>\n",
              "      <td>-0.176</td>\n",
              "      <td>-0.142</td>\n",
              "      <td>-0.066</td>\n",
              "      <td>0.017</td>\n",
              "    </tr>\n",
              "    <tr>\n",
              "      <th>20479</th>\n",
              "      <td>-0.229</td>\n",
              "      <td>0.054</td>\n",
              "      <td>-0.225</td>\n",
              "      <td>-0.144</td>\n",
              "      <td>-0.054</td>\n",
              "      <td>-0.068</td>\n",
              "      <td>-0.078</td>\n",
              "      <td>-0.007</td>\n",
              "    </tr>\n",
              "  </tbody>\n",
              "</table>\n",
              "<p>204800 rows × 8 columns</p>\n",
              "</div>\n",
              "      <button class=\"colab-df-convert\" onclick=\"convertToInteractive('df-cb10ba41-dc7f-46fe-ae0b-3ca860c68285')\"\n",
              "              title=\"Convert this dataframe to an interactive table.\"\n",
              "              style=\"display:none;\">\n",
              "        \n",
              "  <svg xmlns=\"http://www.w3.org/2000/svg\" height=\"24px\"viewBox=\"0 0 24 24\"\n",
              "       width=\"24px\">\n",
              "    <path d=\"M0 0h24v24H0V0z\" fill=\"none\"/>\n",
              "    <path d=\"M18.56 5.44l.94 2.06.94-2.06 2.06-.94-2.06-.94-.94-2.06-.94 2.06-2.06.94zm-11 1L8.5 8.5l.94-2.06 2.06-.94-2.06-.94L8.5 2.5l-.94 2.06-2.06.94zm10 10l.94 2.06.94-2.06 2.06-.94-2.06-.94-.94-2.06-.94 2.06-2.06.94z\"/><path d=\"M17.41 7.96l-1.37-1.37c-.4-.4-.92-.59-1.43-.59-.52 0-1.04.2-1.43.59L10.3 9.45l-7.72 7.72c-.78.78-.78 2.05 0 2.83L4 21.41c.39.39.9.59 1.41.59.51 0 1.02-.2 1.41-.59l7.78-7.78 2.81-2.81c.8-.78.8-2.07 0-2.86zM5.41 20L4 18.59l7.72-7.72 1.47 1.35L5.41 20z\"/>\n",
              "  </svg>\n",
              "      </button>\n",
              "      \n",
              "  <style>\n",
              "    .colab-df-container {\n",
              "      display:flex;\n",
              "      flex-wrap:wrap;\n",
              "      gap: 12px;\n",
              "    }\n",
              "\n",
              "    .colab-df-convert {\n",
              "      background-color: #E8F0FE;\n",
              "      border: none;\n",
              "      border-radius: 50%;\n",
              "      cursor: pointer;\n",
              "      display: none;\n",
              "      fill: #1967D2;\n",
              "      height: 32px;\n",
              "      padding: 0 0 0 0;\n",
              "      width: 32px;\n",
              "    }\n",
              "\n",
              "    .colab-df-convert:hover {\n",
              "      background-color: #E2EBFA;\n",
              "      box-shadow: 0px 1px 2px rgba(60, 64, 67, 0.3), 0px 1px 3px 1px rgba(60, 64, 67, 0.15);\n",
              "      fill: #174EA6;\n",
              "    }\n",
              "\n",
              "    [theme=dark] .colab-df-convert {\n",
              "      background-color: #3B4455;\n",
              "      fill: #D2E3FC;\n",
              "    }\n",
              "\n",
              "    [theme=dark] .colab-df-convert:hover {\n",
              "      background-color: #434B5C;\n",
              "      box-shadow: 0px 1px 3px 1px rgba(0, 0, 0, 0.15);\n",
              "      filter: drop-shadow(0px 1px 2px rgba(0, 0, 0, 0.3));\n",
              "      fill: #FFFFFF;\n",
              "    }\n",
              "  </style>\n",
              "\n",
              "      <script>\n",
              "        const buttonEl =\n",
              "          document.querySelector('#df-cb10ba41-dc7f-46fe-ae0b-3ca860c68285 button.colab-df-convert');\n",
              "        buttonEl.style.display =\n",
              "          google.colab.kernel.accessAllowed ? 'block' : 'none';\n",
              "\n",
              "        async function convertToInteractive(key) {\n",
              "          const element = document.querySelector('#df-cb10ba41-dc7f-46fe-ae0b-3ca860c68285');\n",
              "          const dataTable =\n",
              "            await google.colab.kernel.invokeFunction('convertToInteractive',\n",
              "                                                     [key], {});\n",
              "          if (!dataTable) return;\n",
              "\n",
              "          const docLinkHtml = 'Like what you see? Visit the ' +\n",
              "            '<a target=\"_blank\" href=https://colab.research.google.com/notebooks/data_table.ipynb>data table notebook</a>'\n",
              "            + ' to learn more about interactive tables.';\n",
              "          element.innerHTML = '';\n",
              "          dataTable['output_type'] = 'display_data';\n",
              "          await google.colab.output.renderOutput(dataTable, element);\n",
              "          const docLink = document.createElement('div');\n",
              "          docLink.innerHTML = docLinkHtml;\n",
              "          element.appendChild(docLink);\n",
              "        }\n",
              "      </script>\n",
              "    </div>\n",
              "  </div>\n",
              "  "
            ]
          },
          "metadata": {},
          "execution_count": 47
        }
      ]
    },
    {
      "cell_type": "markdown",
      "source": [
        "## FFT preview for first files"
      ],
      "metadata": {
        "id": "ET6JTyq5DlfE"
      }
    },
    {
      "cell_type": "markdown",
      "source": [
        "First just one bearing, get only the wanted info from the 10 files\n",
        "\n",
        "(3 because it has a failure in the set being used)"
      ],
      "metadata": {
        "id": "wtOj78GBgZbJ"
      }
    },
    {
      "cell_type": "code",
      "source": [
        "bearing3 = df.loc[:,4:5]"
      ],
      "metadata": {
        "id": "tXN05W7YNcoa"
      },
      "execution_count": null,
      "outputs": []
    },
    {
      "cell_type": "code",
      "source": [
        "bearing3_file0 = bearing3.iloc[0:20480]"
      ],
      "metadata": {
        "id": "NkgvfM9ftre-"
      },
      "execution_count": null,
      "outputs": []
    },
    {
      "cell_type": "code",
      "source": [
        "bearing3_file0"
      ],
      "metadata": {
        "colab": {
          "base_uri": "https://localhost:8080/"
        },
        "id": "GAePPyZvwcKw",
        "outputId": "9622251d-a1c7-4c60-e7f2-6ff5819a771f"
      },
      "execution_count": null,
      "outputs": [
        {
          "output_type": "execute_result",
          "data": {
            "text/plain": [
              "           4      5\n",
              "0     -0.105 -0.134\n",
              "1     -0.049  0.029\n",
              "2     -0.005 -0.007\n",
              "3     -0.100 -0.115\n",
              "4     -0.151 -0.205\n",
              "...      ...    ...\n",
              "20475 -0.200 -0.198\n",
              "20476 -0.159 -0.071\n",
              "20477 -0.237 -0.251\n",
              "20478 -0.027 -0.002\n",
              "20479 -0.002 -0.342\n",
              "\n",
              "[20480 rows x 2 columns]"
            ],
            "text/html": [
              "\n",
              "  <div id=\"df-41297ea3-a8cf-49f5-965a-fb4b8b3f9c03\">\n",
              "    <div class=\"colab-df-container\">\n",
              "      <div>\n",
              "<style scoped>\n",
              "    .dataframe tbody tr th:only-of-type {\n",
              "        vertical-align: middle;\n",
              "    }\n",
              "\n",
              "    .dataframe tbody tr th {\n",
              "        vertical-align: top;\n",
              "    }\n",
              "\n",
              "    .dataframe thead th {\n",
              "        text-align: right;\n",
              "    }\n",
              "</style>\n",
              "<table border=\"1\" class=\"dataframe\">\n",
              "  <thead>\n",
              "    <tr style=\"text-align: right;\">\n",
              "      <th></th>\n",
              "      <th>4</th>\n",
              "      <th>5</th>\n",
              "    </tr>\n",
              "  </thead>\n",
              "  <tbody>\n",
              "    <tr>\n",
              "      <th>0</th>\n",
              "      <td>-0.105</td>\n",
              "      <td>-0.134</td>\n",
              "    </tr>\n",
              "    <tr>\n",
              "      <th>1</th>\n",
              "      <td>-0.049</td>\n",
              "      <td>0.029</td>\n",
              "    </tr>\n",
              "    <tr>\n",
              "      <th>2</th>\n",
              "      <td>-0.005</td>\n",
              "      <td>-0.007</td>\n",
              "    </tr>\n",
              "    <tr>\n",
              "      <th>3</th>\n",
              "      <td>-0.100</td>\n",
              "      <td>-0.115</td>\n",
              "    </tr>\n",
              "    <tr>\n",
              "      <th>4</th>\n",
              "      <td>-0.151</td>\n",
              "      <td>-0.205</td>\n",
              "    </tr>\n",
              "    <tr>\n",
              "      <th>...</th>\n",
              "      <td>...</td>\n",
              "      <td>...</td>\n",
              "    </tr>\n",
              "    <tr>\n",
              "      <th>20475</th>\n",
              "      <td>-0.200</td>\n",
              "      <td>-0.198</td>\n",
              "    </tr>\n",
              "    <tr>\n",
              "      <th>20476</th>\n",
              "      <td>-0.159</td>\n",
              "      <td>-0.071</td>\n",
              "    </tr>\n",
              "    <tr>\n",
              "      <th>20477</th>\n",
              "      <td>-0.237</td>\n",
              "      <td>-0.251</td>\n",
              "    </tr>\n",
              "    <tr>\n",
              "      <th>20478</th>\n",
              "      <td>-0.027</td>\n",
              "      <td>-0.002</td>\n",
              "    </tr>\n",
              "    <tr>\n",
              "      <th>20479</th>\n",
              "      <td>-0.002</td>\n",
              "      <td>-0.342</td>\n",
              "    </tr>\n",
              "  </tbody>\n",
              "</table>\n",
              "<p>20480 rows × 2 columns</p>\n",
              "</div>\n",
              "      <button class=\"colab-df-convert\" onclick=\"convertToInteractive('df-41297ea3-a8cf-49f5-965a-fb4b8b3f9c03')\"\n",
              "              title=\"Convert this dataframe to an interactive table.\"\n",
              "              style=\"display:none;\">\n",
              "        \n",
              "  <svg xmlns=\"http://www.w3.org/2000/svg\" height=\"24px\"viewBox=\"0 0 24 24\"\n",
              "       width=\"24px\">\n",
              "    <path d=\"M0 0h24v24H0V0z\" fill=\"none\"/>\n",
              "    <path d=\"M18.56 5.44l.94 2.06.94-2.06 2.06-.94-2.06-.94-.94-2.06-.94 2.06-2.06.94zm-11 1L8.5 8.5l.94-2.06 2.06-.94-2.06-.94L8.5 2.5l-.94 2.06-2.06.94zm10 10l.94 2.06.94-2.06 2.06-.94-2.06-.94-.94-2.06-.94 2.06-2.06.94z\"/><path d=\"M17.41 7.96l-1.37-1.37c-.4-.4-.92-.59-1.43-.59-.52 0-1.04.2-1.43.59L10.3 9.45l-7.72 7.72c-.78.78-.78 2.05 0 2.83L4 21.41c.39.39.9.59 1.41.59.51 0 1.02-.2 1.41-.59l7.78-7.78 2.81-2.81c.8-.78.8-2.07 0-2.86zM5.41 20L4 18.59l7.72-7.72 1.47 1.35L5.41 20z\"/>\n",
              "  </svg>\n",
              "      </button>\n",
              "      \n",
              "  <style>\n",
              "    .colab-df-container {\n",
              "      display:flex;\n",
              "      flex-wrap:wrap;\n",
              "      gap: 12px;\n",
              "    }\n",
              "\n",
              "    .colab-df-convert {\n",
              "      background-color: #E8F0FE;\n",
              "      border: none;\n",
              "      border-radius: 50%;\n",
              "      cursor: pointer;\n",
              "      display: none;\n",
              "      fill: #1967D2;\n",
              "      height: 32px;\n",
              "      padding: 0 0 0 0;\n",
              "      width: 32px;\n",
              "    }\n",
              "\n",
              "    .colab-df-convert:hover {\n",
              "      background-color: #E2EBFA;\n",
              "      box-shadow: 0px 1px 2px rgba(60, 64, 67, 0.3), 0px 1px 3px 1px rgba(60, 64, 67, 0.15);\n",
              "      fill: #174EA6;\n",
              "    }\n",
              "\n",
              "    [theme=dark] .colab-df-convert {\n",
              "      background-color: #3B4455;\n",
              "      fill: #D2E3FC;\n",
              "    }\n",
              "\n",
              "    [theme=dark] .colab-df-convert:hover {\n",
              "      background-color: #434B5C;\n",
              "      box-shadow: 0px 1px 3px 1px rgba(0, 0, 0, 0.15);\n",
              "      filter: drop-shadow(0px 1px 2px rgba(0, 0, 0, 0.3));\n",
              "      fill: #FFFFFF;\n",
              "    }\n",
              "  </style>\n",
              "\n",
              "      <script>\n",
              "        const buttonEl =\n",
              "          document.querySelector('#df-41297ea3-a8cf-49f5-965a-fb4b8b3f9c03 button.colab-df-convert');\n",
              "        buttonEl.style.display =\n",
              "          google.colab.kernel.accessAllowed ? 'block' : 'none';\n",
              "\n",
              "        async function convertToInteractive(key) {\n",
              "          const element = document.querySelector('#df-41297ea3-a8cf-49f5-965a-fb4b8b3f9c03');\n",
              "          const dataTable =\n",
              "            await google.colab.kernel.invokeFunction('convertToInteractive',\n",
              "                                                     [key], {});\n",
              "          if (!dataTable) return;\n",
              "\n",
              "          const docLinkHtml = 'Like what you see? Visit the ' +\n",
              "            '<a target=\"_blank\" href=https://colab.research.google.com/notebooks/data_table.ipynb>data table notebook</a>'\n",
              "            + ' to learn more about interactive tables.';\n",
              "          element.innerHTML = '';\n",
              "          dataTable['output_type'] = 'display_data';\n",
              "          await google.colab.output.renderOutput(dataTable, element);\n",
              "          const docLink = document.createElement('div');\n",
              "          docLink.innerHTML = docLinkHtml;\n",
              "          element.appendChild(docLink);\n",
              "        }\n",
              "      </script>\n",
              "    </div>\n",
              "  </div>\n",
              "  "
            ]
          },
          "metadata": {},
          "execution_count": 71
        }
      ]
    },
    {
      "cell_type": "code",
      "source": [
        "tone = bearing3_file0.loc[:,4] # Just 1 channel\n",
        "\n",
        "normalized_tone = np.int16((tone / tone.max()) * 32767)\n",
        "\n",
        "plt.plot(normalized_tone[:1000])\n",
        "plt.show()"
      ],
      "metadata": {
        "colab": {
          "base_uri": "https://localhost:8080/"
        },
        "id": "nCHr5hQ-xhBU",
        "outputId": "ee46221f-0f33-46a3-b89e-73d815303205"
      },
      "execution_count": null,
      "outputs": [
        {
          "output_type": "display_data",
          "data": {
            "text/plain": [
              "<Figure size 432x288 with 1 Axes>"
            ],
            "image/png": "[encoded data removed]"
          },
          "metadata": {
            "needs_background": "light"
          }
        }
      ]
    },
    {
      "cell_type": "code",
      "source": [
        "from scipy.fft import fft, fftfreq\n",
        "\n",
        "SAMPLE_RATE = 20480 # (...).shape[0]\n",
        "DURATION = 1 # Just 1 file of 1 second\n",
        "\n",
        "\n",
        "\n",
        "\n",
        "# Number of samples in normalized_tone\n",
        "N = SAMPLE_RATE * DURATION\n",
        "\n",
        "yf = fft(normalized_tone)\n",
        "xf = fftfreq(N, 1 / SAMPLE_RATE)\n",
        "\n",
        "plt.plot(xf, np.abs(yf))\n",
        "plt.show()"
      ],
      "metadata": {
        "colab": {
          "base_uri": "https://localhost:8080/"
        },
        "id": "927yWu-Vwr8r",
        "outputId": "884fbbd1-8716-466c-ed90-58052163627f"
      },
      "execution_count": null,
      "outputs": [
        {
          "output_type": "display_data",
          "data": {
            "text/plain": [
              "<Figure size 432x288 with 1 Axes>"
            ],
            "image/png": "[encoded data removed]"
          },
          "metadata": {
            "needs_background": "light"
          }
        }
      ]
    },
    {
      "cell_type": "markdown",
      "source": [
        "## FFT preview for last files"
      ],
      "metadata": {
        "id": "vs-JBxX6DuFm"
      }
    },
    {
      "cell_type": "code",
      "source": [
        "df, names = readFiles('/content/drive/MyDrive/Colab Notebooks/TFG/Trasteo/5archivosfinal')"
      ],
      "metadata": {
        "id": "6byNHtTFtqgb"
      },
      "execution_count": null,
      "outputs": []
    },
    {
      "cell_type": "code",
      "source": [
        "bearing3 = df.loc[:,4:5]\n",
        "bearing3_last = bearing3.iloc[-20480:]"
      ],
      "metadata": {
        "id": "ynbsqUfouHOV"
      },
      "execution_count": null,
      "outputs": []
    },
    {
      "cell_type": "code",
      "source": [
        "bearing3_last"
      ],
      "metadata": {
        "colab": {
          "base_uri": "https://localhost:8080/"
        },
        "id": "maectatTuTkY",
        "outputId": "dee0f31a-f509-4cfd-bb08-a5b2014927fc"
      },
      "execution_count": null,
      "outputs": [
        {
          "output_type": "execute_result",
          "data": {
            "text/plain": [
              "           4      5\n",
              "0     -0.112  0.471\n",
              "1     -0.510  0.005\n",
              "2      0.037 -0.107\n",
              "3      0.063 -0.205\n",
              "4     -0.115  0.027\n",
              "...      ...    ...\n",
              "20475 -0.195  0.151\n",
              "20476 -0.227  0.276\n",
              "20477 -0.095  0.513\n",
              "20478 -0.115 -0.012\n",
              "20479 -0.293  0.288\n",
              "\n",
              "[20480 rows x 2 columns]"
            ],
            "text/html": [
              "\n",
              "  <div id=\"df-10cdee49-158b-47f4-a137-1eb31d038b3b\">\n",
              "    <div class=\"colab-df-container\">\n",
              "      <div>\n",
              "<style scoped>\n",
              "    .dataframe tbody tr th:only-of-type {\n",
              "        vertical-align: middle;\n",
              "    }\n",
              "\n",
              "    .dataframe tbody tr th {\n",
              "        vertical-align: top;\n",
              "    }\n",
              "\n",
              "    .dataframe thead th {\n",
              "        text-align: right;\n",
              "    }\n",
              "</style>\n",
              "<table border=\"1\" class=\"dataframe\">\n",
              "  <thead>\n",
              "    <tr style=\"text-align: right;\">\n",
              "      <th></th>\n",
              "      <th>4</th>\n",
              "      <th>5</th>\n",
              "    </tr>\n",
              "  </thead>\n",
              "  <tbody>\n",
              "    <tr>\n",
              "      <th>0</th>\n",
              "      <td>-0.112</td>\n",
              "      <td>0.471</td>\n",
              "    </tr>\n",
              "    <tr>\n",
              "      <th>1</th>\n",
              "      <td>-0.510</td>\n",
              "      <td>0.005</td>\n",
              "    </tr>\n",
              "    <tr>\n",
              "      <th>2</th>\n",
              "      <td>0.037</td>\n",
              "      <td>-0.107</td>\n",
              "    </tr>\n",
              "    <tr>\n",
              "      <th>3</th>\n",
              "      <td>0.063</td>\n",
              "      <td>-0.205</td>\n",
              "    </tr>\n",
              "    <tr>\n",
              "      <th>4</th>\n",
              "      <td>-0.115</td>\n",
              "      <td>0.027</td>\n",
              "    </tr>\n",
              "    <tr>\n",
              "      <th>...</th>\n",
              "      <td>...</td>\n",
              "      <td>...</td>\n",
              "    </tr>\n",
              "    <tr>\n",
              "      <th>20475</th>\n",
              "      <td>-0.195</td>\n",
              "      <td>0.151</td>\n",
              "    </tr>\n",
              "    <tr>\n",
              "      <th>20476</th>\n",
              "      <td>-0.227</td>\n",
              "      <td>0.276</td>\n",
              "    </tr>\n",
              "    <tr>\n",
              "      <th>20477</th>\n",
              "      <td>-0.095</td>\n",
              "      <td>0.513</td>\n",
              "    </tr>\n",
              "    <tr>\n",
              "      <th>20478</th>\n",
              "      <td>-0.115</td>\n",
              "      <td>-0.012</td>\n",
              "    </tr>\n",
              "    <tr>\n",
              "      <th>20479</th>\n",
              "      <td>-0.293</td>\n",
              "      <td>0.288</td>\n",
              "    </tr>\n",
              "  </tbody>\n",
              "</table>\n",
              "<p>20480 rows × 2 columns</p>\n",
              "</div>\n",
              "      <button class=\"colab-df-convert\" onclick=\"convertToInteractive('df-10cdee49-158b-47f4-a137-1eb31d038b3b')\"\n",
              "              title=\"Convert this dataframe to an interactive table.\"\n",
              "              style=\"display:none;\">\n",
              "        \n",
              "  <svg xmlns=\"http://www.w3.org/2000/svg\" height=\"24px\"viewBox=\"0 0 24 24\"\n",
              "       width=\"24px\">\n",
              "    <path d=\"M0 0h24v24H0V0z\" fill=\"none\"/>\n",
              "    <path d=\"M18.56 5.44l.94 2.06.94-2.06 2.06-.94-2.06-.94-.94-2.06-.94 2.06-2.06.94zm-11 1L8.5 8.5l.94-2.06 2.06-.94-2.06-.94L8.5 2.5l-.94 2.06-2.06.94zm10 10l.94 2.06.94-2.06 2.06-.94-2.06-.94-.94-2.06-.94 2.06-2.06.94z\"/><path d=\"M17.41 7.96l-1.37-1.37c-.4-.4-.92-.59-1.43-.59-.52 0-1.04.2-1.43.59L10.3 9.45l-7.72 7.72c-.78.78-.78 2.05 0 2.83L4 21.41c.39.39.9.59 1.41.59.51 0 1.02-.2 1.41-.59l7.78-7.78 2.81-2.81c.8-.78.8-2.07 0-2.86zM5.41 20L4 18.59l7.72-7.72 1.47 1.35L5.41 20z\"/>\n",
              "  </svg>\n",
              "      </button>\n",
              "      \n",
              "  <style>\n",
              "    .colab-df-container {\n",
              "      display:flex;\n",
              "      flex-wrap:wrap;\n",
              "      gap: 12px;\n",
              "    }\n",
              "\n",
              "    .colab-df-convert {\n",
              "      background-color: #E8F0FE;\n",
              "      border: none;\n",
              "      border-radius: 50%;\n",
              "      cursor: pointer;\n",
              "      display: none;\n",
              "      fill: #1967D2;\n",
              "      height: 32px;\n",
              "      padding: 0 0 0 0;\n",
              "      width: 32px;\n",
              "    }\n",
              "\n",
              "    .colab-df-convert:hover {\n",
              "      background-color: #E2EBFA;\n",
              "      box-shadow: 0px 1px 2px rgba(60, 64, 67, 0.3), 0px 1px 3px 1px rgba(60, 64, 67, 0.15);\n",
              "      fill: #174EA6;\n",
              "    }\n",
              "\n",
              "    [theme=dark] .colab-df-convert {\n",
              "      background-color: #3B4455;\n",
              "      fill: #D2E3FC;\n",
              "    }\n",
              "\n",
              "    [theme=dark] .colab-df-convert:hover {\n",
              "      background-color: #434B5C;\n",
              "      box-shadow: 0px 1px 3px 1px rgba(0, 0, 0, 0.15);\n",
              "      filter: drop-shadow(0px 1px 2px rgba(0, 0, 0, 0.3));\n",
              "      fill: #FFFFFF;\n",
              "    }\n",
              "  </style>\n",
              "\n",
              "      <script>\n",
              "        const buttonEl =\n",
              "          document.querySelector('#df-10cdee49-158b-47f4-a137-1eb31d038b3b button.colab-df-convert');\n",
              "        buttonEl.style.display =\n",
              "          google.colab.kernel.accessAllowed ? 'block' : 'none';\n",
              "\n",
              "        async function convertToInteractive(key) {\n",
              "          const element = document.querySelector('#df-10cdee49-158b-47f4-a137-1eb31d038b3b');\n",
              "          const dataTable =\n",
              "            await google.colab.kernel.invokeFunction('convertToInteractive',\n",
              "                                                     [key], {});\n",
              "          if (!dataTable) return;\n",
              "\n",
              "          const docLinkHtml = 'Like what you see? Visit the ' +\n",
              "            '<a target=\"_blank\" href=https://colab.research.google.com/notebooks/data_table.ipynb>data table notebook</a>'\n",
              "            + ' to learn more about interactive tables.';\n",
              "          element.innerHTML = '';\n",
              "          dataTable['output_type'] = 'display_data';\n",
              "          await google.colab.output.renderOutput(dataTable, element);\n",
              "          const docLink = document.createElement('div');\n",
              "          docLink.innerHTML = docLinkHtml;\n",
              "          element.appendChild(docLink);\n",
              "        }\n",
              "      </script>\n",
              "    </div>\n",
              "  </div>\n",
              "  "
            ]
          },
          "metadata": {},
          "execution_count": 55
        }
      ]
    },
    {
      "cell_type": "code",
      "source": [
        "tone = bearing3_last.loc[:,4] # Just 1 channel\n",
        "\n",
        "normalized_tone = np.int16((tone / tone.max()) * 32767)\n",
        "\n",
        "plt.plot(normalized_tone[:1000])\n",
        "plt.show()"
      ],
      "metadata": {
        "colab": {
          "base_uri": "https://localhost:8080/"
        },
        "id": "1wjCnQ-BWivq",
        "outputId": "1114be3e-c0ac-4df9-b1f1-d496977cf143"
      },
      "execution_count": null,
      "outputs": [
        {
          "output_type": "display_data",
          "data": {
            "text/plain": [
              "<Figure size 432x288 with 1 Axes>"
            ],
            "image/png": "[encoded data removed]"
          },
          "metadata": {
            "needs_background": "light"
          }
        }
      ]
    },
    {
      "cell_type": "code",
      "source": [
        "SAMPLE_RATE = 20480 # (...).shape[0]\n",
        "DURATION = 1 # Just 1 file of 1 second\n",
        "\n",
        "\n",
        "\n",
        "\n",
        "# Number of samples in normalized_tone\n",
        "N = SAMPLE_RATE * DURATION\n",
        "\n",
        "yf = fft(normalized_tone)\n",
        "xf = fftfreq(N, 1 / SAMPLE_RATE)\n",
        "\n",
        "plt.plot(xf, np.abs(yf))\n",
        "plt.show()"
      ],
      "metadata": {
        "colab": {
          "base_uri": "https://localhost:8080/"
        },
        "id": "uiPeA7XIXWM0",
        "outputId": "90b169a5-636d-4b51-8ad4-72eb0373df0f"
      },
      "execution_count": null,
      "outputs": [
        {
          "output_type": "display_data",
          "data": {
            "text/plain": [
              "<Figure size 432x288 with 1 Axes>"
            ],
            "image/png": "[encoded data removed]"
          },
          "metadata": {
            "needs_background": "light"
          }
        }
      ]
    },
    {
      "cell_type": "markdown",
      "source": [
        "## Characteristics for FFT\n",
        "Small test to compute characteristics in the frequency domain. They are in the complex numbers, and for their interpretation, they should be put in absolute terms.\n",
        "Nonetheless, this will not be included in the proyect."
      ],
      "metadata": {
        "id": "_o_WsQgVDjtr"
      }
    },
    {
      "cell_type": "code",
      "source": [
        "df, names = readFiles('/content/drive/MyDrive/Colab Notebooks/TFG/Trasteo/10Archivos')\n",
        "df = df.iloc[0:20480]\n",
        "\n",
        "tone = df.loc[:,4] # Just 1 channel\n",
        "normalized_tone = np.int16((tone / tone.max()) * 32767)\n",
        "\n",
        "SAMPLE_RATE = 20480 # (...).shape[0]\n",
        "DURATION = 1 # Just 1 file of 1 second\n",
        "\n",
        "# Number of samples in normalized_tone\n",
        "N = SAMPLE_RATE * DURATION\n",
        "\n",
        "from scipy.fft import rfft, rfftfreq\n",
        "\n",
        "# Note the extra 'r' at the front\n",
        "yf = rfft(normalized_tone)\n",
        "xf = rfftfreq(N, 1 / SAMPLE_RATE)"
      ],
      "metadata": {
        "id": "VL-IV9uCD3KS"
      },
      "execution_count": null,
      "outputs": []
    },
    {
      "cell_type": "code",
      "source": [
        "plt.plot(xf, np.abs(yf))\n",
        "plt.show()"
      ],
      "metadata": {
        "colab": {
          "base_uri": "https://localhost:8080/",
          "height": 276
        },
        "id": "lfPQJPQTH_fw",
        "outputId": "cc017183-7c75-453d-cc44-6a51193942f2"
      },
      "execution_count": null,
      "outputs": [
        {
          "output_type": "display_data",
          "data": {
            "text/plain": [
              "<Figure size 432x288 with 1 Axes>"
            ],
            "image/png": "[encoded data removed]"
          },
          "metadata": {
            "needs_background": "light"
          }
        }
      ]
    },
    {
      "cell_type": "code",
      "source": [
        "yf"
      ],
      "metadata": {
        "colab": {
          "base_uri": "https://localhost:8080/"
        },
        "id": "H1-erfzQF_Q3",
        "outputId": "2cc85734-071b-4f79-9d71-af09220c72c2"
      },
      "execution_count": null,
      "outputs": [
        {
          "output_type": "execute_result",
          "data": {
            "text/plain": [
              "array([-1.51296418e+08      +0.j        ,\n",
              "       -1.29083580e+06 +390290.90411122j,\n",
              "        2.75528338e+05+1541673.79490654j, ...,\n",
              "       -7.53619931e+05 -198313.47051488j,\n",
              "        5.17216133e+05 +251547.28188151j,\n",
              "        1.51100000e+04      +0.j        ])"
            ]
          },
          "metadata": {},
          "execution_count": 81
        }
      ]
    },
    {
      "cell_type": "code",
      "source": [
        "xf"
      ],
      "metadata": {
        "colab": {
          "base_uri": "https://localhost:8080/"
        },
        "id": "O0rO4hZpHZEB",
        "outputId": "314c7299-9b7f-4038-984f-bcdc019f0af5"
      },
      "execution_count": null,
      "outputs": [
        {
          "output_type": "execute_result",
          "data": {
            "text/plain": [
              "array([0.0000e+00, 1.0000e+00, 2.0000e+00, ..., 1.0238e+04, 1.0239e+04,\n",
              "       1.0240e+04])"
            ]
          },
          "metadata": {},
          "execution_count": 82
        }
      ]
    },
    {
      "cell_type": "markdown",
      "source": [
        "Yes, complex numbers, my favourites"
      ],
      "metadata": {
        "id": "aeLLq1jGIc2v"
      }
    },
    {
      "cell_type": "code",
      "source": [
        "rms(yf)"
      ],
      "metadata": {
        "colab": {
          "base_uri": "https://localhost:8080/"
        },
        "id": "INZxwuMVIRLY",
        "outputId": "60ddca81-c058-4149-83b0-3e62e4a3bfa8"
      },
      "execution_count": null,
      "outputs": [
        {
          "output_type": "execute_result",
          "data": {
            "text/plain": [
              "(1475783.6584744467-32895.95199129747j)"
            ]
          },
          "metadata": {},
          "execution_count": 83
        }
      ]
    },
    {
      "cell_type": "code",
      "source": [
        "np.std(yf)"
      ],
      "metadata": {
        "colab": {
          "base_uri": "https://localhost:8080/"
        },
        "id": "aWbwXtGWIghz",
        "outputId": "67fa4c68-b1df-49a7-9e0c-e279214db2b8"
      },
      "execution_count": null,
      "outputs": [
        {
          "output_type": "execute_result",
          "data": {
            "text/plain": [
              "1842273.0398067578"
            ]
          },
          "metadata": {},
          "execution_count": 84
        }
      ]
    },
    {
      "cell_type": "code",
      "source": [
        "max(yf)"
      ],
      "metadata": {
        "colab": {
          "base_uri": "https://localhost:8080/"
        },
        "id": "eaXOz9X5Iu2S",
        "outputId": "98a2fbcd-3f26-4185-bb02-82e76a0c0c53"
      },
      "execution_count": null,
      "outputs": [
        {
          "output_type": "execute_result",
          "data": {
            "text/plain": [
              "(11612740.40666751-26006715.57693314j)"
            ]
          },
          "metadata": {},
          "execution_count": 85
        }
      ]
    },
    {
      "cell_type": "code",
      "source": [
        "min(yf)"
      ],
      "metadata": {
        "colab": {
          "base_uri": "https://localhost:8080/"
        },
        "id": "v6aqGFfuIxUm",
        "outputId": "06727c4b-b431-412e-c64a-cf45b51f1389"
      },
      "execution_count": null,
      "outputs": [
        {
          "output_type": "execute_result",
          "data": {
            "text/plain": [
              "(-151296418+0j)"
            ]
          },
          "metadata": {},
          "execution_count": 86
        }
      ]
    },
    {
      "cell_type": "code",
      "source": [
        "np.mean(yf)"
      ],
      "metadata": {
        "colab": {
          "base_uri": "https://localhost:8080/"
        },
        "id": "q2IO3UjFIzwO",
        "outputId": "c4f3d50e-6813-4fa4-854f-02e84fbfa5ed"
      },
      "execution_count": null,
      "outputs": [
        {
          "output_type": "execute_result",
          "data": {
            "text/plain": [
              "(-15986.221462747782+387.75663501900874j)"
            ]
          },
          "metadata": {},
          "execution_count": 87
        }
      ]
    },
    {
      "cell_type": "markdown",
      "source": [
        "For the Amp Bin () we need a special formula"
      ],
      "metadata": {
        "id": "CCE1E1BlI_zk"
      }
    },
    {
      "cell_type": "code",
      "source": [],
      "metadata": {
        "id": "WD3LG-1cI8b-"
      },
      "execution_count": null,
      "outputs": []
    },
    {
      "cell_type": "markdown",
      "source": [
        "### testing the sample rate"
      ],
      "metadata": {
        "id": "J2WpRukNiW8U"
      }
    },
    {
      "cell_type": "code",
      "source": [
        "df, names = readFiles('/content/drive/MyDrive/Colab Notebooks/TFG/Trasteo/5archivosfinal')\n",
        "df = df.iloc[0:20480]\n",
        "\n",
        "tone = df.loc[:,4] # Just 1 channel\n",
        "normalized_tone = np.int16((tone / tone.max()) * 32767)\n",
        "\n",
        "SAMPLE_RATE = 20480 # (...).shape[0]\n",
        "DURATION = 1 # Just 1 file of 1 second\n",
        "\n",
        "# Number of samples in normalized_tone\n",
        "N = SAMPLE_RATE * DURATION\n",
        "\n",
        "from scipy.fft import rfft, rfftfreq\n",
        "\n",
        "# Note the extra 'r' at the front\n",
        "yf = rfft(normalized_tone)\n",
        "xf = rfftfreq(N, 1 / SAMPLE_RATE)"
      ],
      "metadata": {
        "id": "dyi0FriwibI-"
      },
      "execution_count": null,
      "outputs": []
    },
    {
      "cell_type": "code",
      "source": [
        "plt.plot(xf, np.abs(yf))\n",
        "plt.show()"
      ],
      "metadata": {
        "colab": {
          "base_uri": "https://localhost:8080/",
          "height": 445
        },
        "id": "PuCZ5CAnihPw",
        "outputId": "2c8b33ad-f69f-413b-84ab-59ee3faca57a"
      },
      "execution_count": null,
      "outputs": [
        {
          "output_type": "display_data",
          "data": {
            "text/plain": [
              "<Figure size 640x480 with 1 Axes>"
            ],
            "image/png": "[encoded data removed]"
          },
          "metadata": {}
        }
      ]
    },
    {
      "cell_type": "code",
      "source": [
        "x = pd.DataFrame(xf)\n",
        "y = pd.DataFrame(np.abs(yf))\n",
        "y[y[0] > 0.23e+07]"
      ],
      "metadata": {
        "colab": {
          "base_uri": "https://localhost:8080/",
          "height": 864
        },
        "id": "o8DBLkD-nDWy",
        "outputId": "8ea88265-5d35-4a7b-967e-4d45403321be"
      },
      "execution_count": null,
      "outputs": [
        {
          "output_type": "execute_result",
          "data": {
            "text/plain": [
              "                 0\n",
              "0     1.751872e+07\n",
              "1     2.024846e+07\n",
              "2     1.181447e+07\n",
              "3     7.402675e+06\n",
              "4     3.981408e+06\n",
              "5     5.538116e+06\n",
              "6     3.729754e+06\n",
              "8     3.784287e+06\n",
              "11    2.953352e+06\n",
              "1011  2.549845e+06\n",
              "3918  2.708040e+06\n",
              "3919  2.321503e+06\n",
              "3930  3.346512e+06\n",
              "3952  3.330442e+06\n",
              "5160  2.593923e+06\n",
              "5167  2.346879e+06\n",
              "5182  2.564964e+06\n",
              "5215  2.331237e+06\n",
              "5229  3.806486e+06\n",
              "5252  2.992542e+06\n",
              "5259  4.457549e+06\n",
              "5264  2.888273e+06\n",
              "5269  2.550121e+06\n",
              "5317  2.680339e+06\n",
              "5329  2.422133e+06\n",
              "5335  2.684653e+06"
            ],
            "text/html": [
              "\n",
              "  <div id=\"df-4d057077-5d70-432e-8ac0-237c1385f5ce\">\n",
              "    <div class=\"colab-df-container\">\n",
              "      <div>\n",
              "<style scoped>\n",
              "    .dataframe tbody tr th:only-of-type {\n",
              "        vertical-align: middle;\n",
              "    }\n",
              "\n",
              "    .dataframe tbody tr th {\n",
              "        vertical-align: top;\n",
              "    }\n",
              "\n",
              "    .dataframe thead th {\n",
              "        text-align: right;\n",
              "    }\n",
              "</style>\n",
              "<table border=\"1\" class=\"dataframe\">\n",
              "  <thead>\n",
              "    <tr style=\"text-align: right;\">\n",
              "      <th></th>\n",
              "      <th>0</th>\n",
              "    </tr>\n",
              "  </thead>\n",
              "  <tbody>\n",
              "    <tr>\n",
              "      <th>0</th>\n",
              "      <td>1.751872e+07</td>\n",
              "    </tr>\n",
              "    <tr>\n",
              "      <th>1</th>\n",
              "      <td>2.024846e+07</td>\n",
              "    </tr>\n",
              "    <tr>\n",
              "      <th>2</th>\n",
              "      <td>1.181447e+07</td>\n",
              "    </tr>\n",
              "    <tr>\n",
              "      <th>3</th>\n",
              "      <td>7.402675e+06</td>\n",
              "    </tr>\n",
              "    <tr>\n",
              "      <th>4</th>\n",
              "      <td>3.981408e+06</td>\n",
              "    </tr>\n",
              "    <tr>\n",
              "      <th>5</th>\n",
              "      <td>5.538116e+06</td>\n",
              "    </tr>\n",
              "    <tr>\n",
              "      <th>6</th>\n",
              "      <td>3.729754e+06</td>\n",
              "    </tr>\n",
              "    <tr>\n",
              "      <th>8</th>\n",
              "      <td>3.784287e+06</td>\n",
              "    </tr>\n",
              "    <tr>\n",
              "      <th>11</th>\n",
              "      <td>2.953352e+06</td>\n",
              "    </tr>\n",
              "    <tr>\n",
              "      <th>1011</th>\n",
              "      <td>2.549845e+06</td>\n",
              "    </tr>\n",
              "    <tr>\n",
              "      <th>3918</th>\n",
              "      <td>2.708040e+06</td>\n",
              "    </tr>\n",
              "    <tr>\n",
              "      <th>3919</th>\n",
              "      <td>2.321503e+06</td>\n",
              "    </tr>\n",
              "    <tr>\n",
              "      <th>3930</th>\n",
              "      <td>3.346512e+06</td>\n",
              "    </tr>\n",
              "    <tr>\n",
              "      <th>3952</th>\n",
              "      <td>3.330442e+06</td>\n",
              "    </tr>\n",
              "    <tr>\n",
              "      <th>5160</th>\n",
              "      <td>2.593923e+06</td>\n",
              "    </tr>\n",
              "    <tr>\n",
              "      <th>5167</th>\n",
              "      <td>2.346879e+06</td>\n",
              "    </tr>\n",
              "    <tr>\n",
              "      <th>5182</th>\n",
              "      <td>2.564964e+06</td>\n",
              "    </tr>\n",
              "    <tr>\n",
              "      <th>5215</th>\n",
              "      <td>2.331237e+06</td>\n",
              "    </tr>\n",
              "    <tr>\n",
              "      <th>5229</th>\n",
              "      <td>3.806486e+06</td>\n",
              "    </tr>\n",
              "    <tr>\n",
              "      <th>5252</th>\n",
              "      <td>2.992542e+06</td>\n",
              "    </tr>\n",
              "    <tr>\n",
              "      <th>5259</th>\n",
              "      <td>4.457549e+06</td>\n",
              "    </tr>\n",
              "    <tr>\n",
              "      <th>5264</th>\n",
              "      <td>2.888273e+06</td>\n",
              "    </tr>\n",
              "    <tr>\n",
              "      <th>5269</th>\n",
              "      <td>2.550121e+06</td>\n",
              "    </tr>\n",
              "    <tr>\n",
              "      <th>5317</th>\n",
              "      <td>2.680339e+06</td>\n",
              "    </tr>\n",
              "    <tr>\n",
              "      <th>5329</th>\n",
              "      <td>2.422133e+06</td>\n",
              "    </tr>\n",
              "    <tr>\n",
              "      <th>5335</th>\n",
              "      <td>2.684653e+06</td>\n",
              "    </tr>\n",
              "  </tbody>\n",
              "</table>\n",
              "</div>\n",
              "      <button class=\"colab-df-convert\" onclick=\"convertToInteractive('df-4d057077-5d70-432e-8ac0-237c1385f5ce')\"\n",
              "              title=\"Convert this dataframe to an interactive table.\"\n",
              "              style=\"display:none;\">\n",
              "        \n",
              "  <svg xmlns=\"http://www.w3.org/2000/svg\" height=\"24px\"viewBox=\"0 0 24 24\"\n",
              "       width=\"24px\">\n",
              "    <path d=\"M0 0h24v24H0V0z\" fill=\"none\"/>\n",
              "    <path d=\"M18.56 5.44l.94 2.06.94-2.06 2.06-.94-2.06-.94-.94-2.06-.94 2.06-2.06.94zm-11 1L8.5 8.5l.94-2.06 2.06-.94-2.06-.94L8.5 2.5l-.94 2.06-2.06.94zm10 10l.94 2.06.94-2.06 2.06-.94-2.06-.94-.94-2.06-.94 2.06-2.06.94z\"/><path d=\"M17.41 7.96l-1.37-1.37c-.4-.4-.92-.59-1.43-.59-.52 0-1.04.2-1.43.59L10.3 9.45l-7.72 7.72c-.78.78-.78 2.05 0 2.83L4 21.41c.39.39.9.59 1.41.59.51 0 1.02-.2 1.41-.59l7.78-7.78 2.81-2.81c.8-.78.8-2.07 0-2.86zM5.41 20L4 18.59l7.72-7.72 1.47 1.35L5.41 20z\"/>\n",
              "  </svg>\n",
              "      </button>\n",
              "      \n",
              "  <style>\n",
              "    .colab-df-container {\n",
              "      display:flex;\n",
              "      flex-wrap:wrap;\n",
              "      gap: 12px;\n",
              "    }\n",
              "\n",
              "    .colab-df-convert {\n",
              "      background-color: #E8F0FE;\n",
              "      border: none;\n",
              "      border-radius: 50%;\n",
              "      cursor: pointer;\n",
              "      display: none;\n",
              "      fill: #1967D2;\n",
              "      height: 32px;\n",
              "      padding: 0 0 0 0;\n",
              "      width: 32px;\n",
              "    }\n",
              "\n",
              "    .colab-df-convert:hover {\n",
              "      background-color: #E2EBFA;\n",
              "      box-shadow: 0px 1px 2px rgba(60, 64, 67, 0.3), 0px 1px 3px 1px rgba(60, 64, 67, 0.15);\n",
              "      fill: #174EA6;\n",
              "    }\n",
              "\n",
              "    [theme=dark] .colab-df-convert {\n",
              "      background-color: #3B4455;\n",
              "      fill: #D2E3FC;\n",
              "    }\n",
              "\n",
              "    [theme=dark] .colab-df-convert:hover {\n",
              "      background-color: #434B5C;\n",
              "      box-shadow: 0px 1px 3px 1px rgba(0, 0, 0, 0.15);\n",
              "      filter: drop-shadow(0px 1px 2px rgba(0, 0, 0, 0.3));\n",
              "      fill: #FFFFFF;\n",
              "    }\n",
              "  </style>\n",
              "\n",
              "      <script>\n",
              "        const buttonEl =\n",
              "          document.querySelector('#df-4d057077-5d70-432e-8ac0-237c1385f5ce button.colab-df-convert');\n",
              "        buttonEl.style.display =\n",
              "          google.colab.kernel.accessAllowed ? 'block' : 'none';\n",
              "\n",
              "        async function convertToInteractive(key) {\n",
              "          const element = document.querySelector('#df-4d057077-5d70-432e-8ac0-237c1385f5ce');\n",
              "          const dataTable =\n",
              "            await google.colab.kernel.invokeFunction('convertToInteractive',\n",
              "                                                     [key], {});\n",
              "          if (!dataTable) return;\n",
              "\n",
              "          const docLinkHtml = 'Like what you see? Visit the ' +\n",
              "            '<a target=\"_blank\" href=https://colab.research.google.com/notebooks/data_table.ipynb>data table notebook</a>'\n",
              "            + ' to learn more about interactive tables.';\n",
              "          element.innerHTML = '';\n",
              "          dataTable['output_type'] = 'display_data';\n",
              "          await google.colab.output.renderOutput(dataTable, element);\n",
              "          const docLink = document.createElement('div');\n",
              "          docLink.innerHTML = docLinkHtml;\n",
              "          element.appendChild(docLink);\n",
              "        }\n",
              "      </script>\n",
              "    </div>\n",
              "  </div>\n",
              "  "
            ]
          },
          "metadata": {},
          "execution_count": 50
        }
      ]
    },
    {
      "cell_type": "code",
      "source": [
        "df, names = readFiles('/content/drive/MyDrive/Colab Notebooks/TFG/Trasteo/5archivosfinal')\n",
        "df = df.iloc[0:20000]\n",
        "tone = df.loc[:,4] # Just 1 channel\n",
        "normalized_tone = np.int16((tone / tone.max()) * 32767)\n",
        "\n",
        "SAMPLE_RATE = 20000 # (...).shape[0]\n",
        "DURATION = 1 # Just 1 file of 1 second\n",
        "\n",
        "# Number of samples in normalized_tone\n",
        "N = SAMPLE_RATE * DURATION\n",
        "\n",
        "from scipy.fft import rfft, rfftfreq\n",
        "\n",
        "# Note the extra 'r' at the front\n",
        "yf = rfft(normalized_tone)\n",
        "xf = rfftfreq(N, 1 / SAMPLE_RATE)"
      ],
      "metadata": {
        "id": "fUXF-BM0jUNj"
      },
      "execution_count": null,
      "outputs": []
    },
    {
      "cell_type": "code",
      "source": [
        "plt.plot(xf, np.abs(yf))\n",
        "plt.show()"
      ],
      "metadata": {
        "colab": {
          "base_uri": "https://localhost:8080/",
          "height": 445
        },
        "id": "ILM3rnOcjcG8",
        "outputId": "ac2decb1-abbb-473e-847b-7539818416da"
      },
      "execution_count": null,
      "outputs": [
        {
          "output_type": "display_data",
          "data": {
            "text/plain": [
              "<Figure size 640x480 with 1 Axes>"
            ],
            "image/png": "[encoded data removed]"
          },
          "metadata": {}
        }
      ]
    },
    {
      "cell_type": "code",
      "source": [
        "x = pd.DataFrame(xf)\n",
        "y = pd.DataFrame(np.abs(yf))"
      ],
      "metadata": {
        "id": "-KzPiu3YkA2C"
      },
      "execution_count": null,
      "outputs": []
    },
    {
      "cell_type": "code",
      "source": [
        "y[y[0] > 0.23e+07]"
      ],
      "metadata": {
        "colab": {
          "base_uri": "https://localhost:8080/",
          "height": 833
        },
        "id": "jQ6Tl3uzksna",
        "outputId": "7cdbaf67-a924-4e1b-a915-f6c3e8cf228a"
      },
      "execution_count": null,
      "outputs": [
        {
          "output_type": "execute_result",
          "data": {
            "text/plain": [
              "                 0\n",
              "0     1.708571e+07\n",
              "1     1.990715e+07\n",
              "2     1.209413e+07\n",
              "3     7.187506e+06\n",
              "4     3.556627e+06\n",
              "5     5.501526e+06\n",
              "6     3.757759e+06\n",
              "8     3.376593e+06\n",
              "11    2.419935e+06\n",
              "3805  2.435778e+06\n",
              "3827  2.943546e+06\n",
              "3838  3.124288e+06\n",
              "3845  2.402536e+06\n",
              "5039  2.553440e+06\n",
              "5046  2.308129e+06\n",
              "5047  2.300294e+06\n",
              "5093  2.342970e+06\n",
              "5107  4.108399e+06\n",
              "5129  2.770287e+06\n",
              "5136  4.297222e+06\n",
              "5140  2.900177e+06\n",
              "5148  2.605604e+06\n",
              "5181  2.485372e+06\n",
              "5204  2.683544e+06\n",
              "5210  2.639702e+06"
            ],
            "text/html": [
              "\n",
              "  <div id=\"df-d3a1be23-c6d1-4f2c-8646-1550a11eca52\">\n",
              "    <div class=\"colab-df-container\">\n",
              "      <div>\n",
              "<style scoped>\n",
              "    .dataframe tbody tr th:only-of-type {\n",
              "        vertical-align: middle;\n",
              "    }\n",
              "\n",
              "    .dataframe tbody tr th {\n",
              "        vertical-align: top;\n",
              "    }\n",
              "\n",
              "    .dataframe thead th {\n",
              "        text-align: right;\n",
              "    }\n",
              "</style>\n",
              "<table border=\"1\" class=\"dataframe\">\n",
              "  <thead>\n",
              "    <tr style=\"text-align: right;\">\n",
              "      <th></th>\n",
              "      <th>0</th>\n",
              "    </tr>\n",
              "  </thead>\n",
              "  <tbody>\n",
              "    <tr>\n",
              "      <th>0</th>\n",
              "      <td>1.708571e+07</td>\n",
              "    </tr>\n",
              "    <tr>\n",
              "      <th>1</th>\n",
              "      <td>1.990715e+07</td>\n",
              "    </tr>\n",
              "    <tr>\n",
              "      <th>2</th>\n",
              "      <td>1.209413e+07</td>\n",
              "    </tr>\n",
              "    <tr>\n",
              "      <th>3</th>\n",
              "      <td>7.187506e+06</td>\n",
              "    </tr>\n",
              "    <tr>\n",
              "      <th>4</th>\n",
              "      <td>3.556627e+06</td>\n",
              "    </tr>\n",
              "    <tr>\n",
              "      <th>5</th>\n",
              "      <td>5.501526e+06</td>\n",
              "    </tr>\n",
              "    <tr>\n",
              "      <th>6</th>\n",
              "      <td>3.757759e+06</td>\n",
              "    </tr>\n",
              "    <tr>\n",
              "      <th>8</th>\n",
              "      <td>3.376593e+06</td>\n",
              "    </tr>\n",
              "    <tr>\n",
              "      <th>11</th>\n",
              "      <td>2.419935e+06</td>\n",
              "    </tr>\n",
              "    <tr>\n",
              "      <th>3805</th>\n",
              "      <td>2.435778e+06</td>\n",
              "    </tr>\n",
              "    <tr>\n",
              "      <th>3827</th>\n",
              "      <td>2.943546e+06</td>\n",
              "    </tr>\n",
              "    <tr>\n",
              "      <th>3838</th>\n",
              "      <td>3.124288e+06</td>\n",
              "    </tr>\n",
              "    <tr>\n",
              "      <th>3845</th>\n",
              "      <td>2.402536e+06</td>\n",
              "    </tr>\n",
              "    <tr>\n",
              "      <th>5039</th>\n",
              "      <td>2.553440e+06</td>\n",
              "    </tr>\n",
              "    <tr>\n",
              "      <th>5046</th>\n",
              "      <td>2.308129e+06</td>\n",
              "    </tr>\n",
              "    <tr>\n",
              "      <th>5047</th>\n",
              "      <td>2.300294e+06</td>\n",
              "    </tr>\n",
              "    <tr>\n",
              "      <th>5093</th>\n",
              "      <td>2.342970e+06</td>\n",
              "    </tr>\n",
              "    <tr>\n",
              "      <th>5107</th>\n",
              "      <td>4.108399e+06</td>\n",
              "    </tr>\n",
              "    <tr>\n",
              "      <th>5129</th>\n",
              "      <td>2.770287e+06</td>\n",
              "    </tr>\n",
              "    <tr>\n",
              "      <th>5136</th>\n",
              "      <td>4.297222e+06</td>\n",
              "    </tr>\n",
              "    <tr>\n",
              "      <th>5140</th>\n",
              "      <td>2.900177e+06</td>\n",
              "    </tr>\n",
              "    <tr>\n",
              "      <th>5148</th>\n",
              "      <td>2.605604e+06</td>\n",
              "    </tr>\n",
              "    <tr>\n",
              "      <th>5181</th>\n",
              "      <td>2.485372e+06</td>\n",
              "    </tr>\n",
              "    <tr>\n",
              "      <th>5204</th>\n",
              "      <td>2.683544e+06</td>\n",
              "    </tr>\n",
              "    <tr>\n",
              "      <th>5210</th>\n",
              "      <td>2.639702e+06</td>\n",
              "    </tr>\n",
              "  </tbody>\n",
              "</table>\n",
              "</div>\n",
              "      <button class=\"colab-df-convert\" onclick=\"convertToInteractive('df-d3a1be23-c6d1-4f2c-8646-1550a11eca52')\"\n",
              "              title=\"Convert this dataframe to an interactive table.\"\n",
              "              style=\"display:none;\">\n",
              "        \n",
              "  <svg xmlns=\"http://www.w3.org/2000/svg\" height=\"24px\"viewBox=\"0 0 24 24\"\n",
              "       width=\"24px\">\n",
              "    <path d=\"M0 0h24v24H0V0z\" fill=\"none\"/>\n",
              "    <path d=\"M18.56 5.44l.94 2.06.94-2.06 2.06-.94-2.06-.94-.94-2.06-.94 2.06-2.06.94zm-11 1L8.5 8.5l.94-2.06 2.06-.94-2.06-.94L8.5 2.5l-.94 2.06-2.06.94zm10 10l.94 2.06.94-2.06 2.06-.94-2.06-.94-.94-2.06-.94 2.06-2.06.94z\"/><path d=\"M17.41 7.96l-1.37-1.37c-.4-.4-.92-.59-1.43-.59-.52 0-1.04.2-1.43.59L10.3 9.45l-7.72 7.72c-.78.78-.78 2.05 0 2.83L4 21.41c.39.39.9.59 1.41.59.51 0 1.02-.2 1.41-.59l7.78-7.78 2.81-2.81c.8-.78.8-2.07 0-2.86zM5.41 20L4 18.59l7.72-7.72 1.47 1.35L5.41 20z\"/>\n",
              "  </svg>\n",
              "      </button>\n",
              "      \n",
              "  <style>\n",
              "    .colab-df-container {\n",
              "      display:flex;\n",
              "      flex-wrap:wrap;\n",
              "      gap: 12px;\n",
              "    }\n",
              "\n",
              "    .colab-df-convert {\n",
              "      background-color: #E8F0FE;\n",
              "      border: none;\n",
              "      border-radius: 50%;\n",
              "      cursor: pointer;\n",
              "      display: none;\n",
              "      fill: #1967D2;\n",
              "      height: 32px;\n",
              "      padding: 0 0 0 0;\n",
              "      width: 32px;\n",
              "    }\n",
              "\n",
              "    .colab-df-convert:hover {\n",
              "      background-color: #E2EBFA;\n",
              "      box-shadow: 0px 1px 2px rgba(60, 64, 67, 0.3), 0px 1px 3px 1px rgba(60, 64, 67, 0.15);\n",
              "      fill: #174EA6;\n",
              "    }\n",
              "\n",
              "    [theme=dark] .colab-df-convert {\n",
              "      background-color: #3B4455;\n",
              "      fill: #D2E3FC;\n",
              "    }\n",
              "\n",
              "    [theme=dark] .colab-df-convert:hover {\n",
              "      background-color: #434B5C;\n",
              "      box-shadow: 0px 1px 3px 1px rgba(0, 0, 0, 0.15);\n",
              "      filter: drop-shadow(0px 1px 2px rgba(0, 0, 0, 0.3));\n",
              "      fill: #FFFFFF;\n",
              "    }\n",
              "  </style>\n",
              "\n",
              "      <script>\n",
              "        const buttonEl =\n",
              "          document.querySelector('#df-d3a1be23-c6d1-4f2c-8646-1550a11eca52 button.colab-df-convert');\n",
              "        buttonEl.style.display =\n",
              "          google.colab.kernel.accessAllowed ? 'block' : 'none';\n",
              "\n",
              "        async function convertToInteractive(key) {\n",
              "          const element = document.querySelector('#df-d3a1be23-c6d1-4f2c-8646-1550a11eca52');\n",
              "          const dataTable =\n",
              "            await google.colab.kernel.invokeFunction('convertToInteractive',\n",
              "                                                     [key], {});\n",
              "          if (!dataTable) return;\n",
              "\n",
              "          const docLinkHtml = 'Like what you see? Visit the ' +\n",
              "            '<a target=\"_blank\" href=https://colab.research.google.com/notebooks/data_table.ipynb>data table notebook</a>'\n",
              "            + ' to learn more about interactive tables.';\n",
              "          element.innerHTML = '';\n",
              "          dataTable['output_type'] = 'display_data';\n",
              "          await google.colab.output.renderOutput(dataTable, element);\n",
              "          const docLink = document.createElement('div');\n",
              "          docLink.innerHTML = docLinkHtml;\n",
              "          element.appendChild(docLink);\n",
              "        }\n",
              "      </script>\n",
              "    </div>\n",
              "  </div>\n",
              "  "
            ]
          },
          "metadata": {},
          "execution_count": 47
        }
      ]
    },
    {
      "cell_type": "code",
      "source": [],
      "metadata": {
        "colab": {
          "base_uri": "https://localhost:8080/",
          "height": 423
        },
        "id": "puHZLuJ7mmJA",
        "outputId": "9659363e-6fd1-456d-dd49-e9adb3169a30"
      },
      "execution_count": null,
      "outputs": [
        {
          "output_type": "execute_result",
          "data": {
            "text/plain": [
              "             0\n",
              "0          0.0\n",
              "1          1.0\n",
              "2          2.0\n",
              "3          3.0\n",
              "4          4.0\n",
              "...        ...\n",
              "9996    9996.0\n",
              "9997    9997.0\n",
              "9998    9998.0\n",
              "9999    9999.0\n",
              "10000  10000.0\n",
              "\n",
              "[10001 rows x 1 columns]"
            ],
            "text/html": [
              "\n",
              "  <div id=\"df-dd52d9aa-2893-481f-9388-765de8b2b07e\">\n",
              "    <div class=\"colab-df-container\">\n",
              "      <div>\n",
              "<style scoped>\n",
              "    .dataframe tbody tr th:only-of-type {\n",
              "        vertical-align: middle;\n",
              "    }\n",
              "\n",
              "    .dataframe tbody tr th {\n",
              "        vertical-align: top;\n",
              "    }\n",
              "\n",
              "    .dataframe thead th {\n",
              "        text-align: right;\n",
              "    }\n",
              "</style>\n",
              "<table border=\"1\" class=\"dataframe\">\n",
              "  <thead>\n",
              "    <tr style=\"text-align: right;\">\n",
              "      <th></th>\n",
              "      <th>0</th>\n",
              "    </tr>\n",
              "  </thead>\n",
              "  <tbody>\n",
              "    <tr>\n",
              "      <th>0</th>\n",
              "      <td>0.0</td>\n",
              "    </tr>\n",
              "    <tr>\n",
              "      <th>1</th>\n",
              "      <td>1.0</td>\n",
              "    </tr>\n",
              "    <tr>\n",
              "      <th>2</th>\n",
              "      <td>2.0</td>\n",
              "    </tr>\n",
              "    <tr>\n",
              "      <th>3</th>\n",
              "      <td>3.0</td>\n",
              "    </tr>\n",
              "    <tr>\n",
              "      <th>4</th>\n",
              "      <td>4.0</td>\n",
              "    </tr>\n",
              "    <tr>\n",
              "      <th>...</th>\n",
              "      <td>...</td>\n",
              "    </tr>\n",
              "    <tr>\n",
              "      <th>9996</th>\n",
              "      <td>9996.0</td>\n",
              "    </tr>\n",
              "    <tr>\n",
              "      <th>9997</th>\n",
              "      <td>9997.0</td>\n",
              "    </tr>\n",
              "    <tr>\n",
              "      <th>9998</th>\n",
              "      <td>9998.0</td>\n",
              "    </tr>\n",
              "    <tr>\n",
              "      <th>9999</th>\n",
              "      <td>9999.0</td>\n",
              "    </tr>\n",
              "    <tr>\n",
              "      <th>10000</th>\n",
              "      <td>10000.0</td>\n",
              "    </tr>\n",
              "  </tbody>\n",
              "</table>\n",
              "<p>10001 rows × 1 columns</p>\n",
              "</div>\n",
              "      <button class=\"colab-df-convert\" onclick=\"convertToInteractive('df-dd52d9aa-2893-481f-9388-765de8b2b07e')\"\n",
              "              title=\"Convert this dataframe to an interactive table.\"\n",
              "              style=\"display:none;\">\n",
              "        \n",
              "  <svg xmlns=\"http://www.w3.org/2000/svg\" height=\"24px\"viewBox=\"0 0 24 24\"\n",
              "       width=\"24px\">\n",
              "    <path d=\"M0 0h24v24H0V0z\" fill=\"none\"/>\n",
              "    <path d=\"M18.56 5.44l.94 2.06.94-2.06 2.06-.94-2.06-.94-.94-2.06-.94 2.06-2.06.94zm-11 1L8.5 8.5l.94-2.06 2.06-.94-2.06-.94L8.5 2.5l-.94 2.06-2.06.94zm10 10l.94 2.06.94-2.06 2.06-.94-2.06-.94-.94-2.06-.94 2.06-2.06.94z\"/><path d=\"M17.41 7.96l-1.37-1.37c-.4-.4-.92-.59-1.43-.59-.52 0-1.04.2-1.43.59L10.3 9.45l-7.72 7.72c-.78.78-.78 2.05 0 2.83L4 21.41c.39.39.9.59 1.41.59.51 0 1.02-.2 1.41-.59l7.78-7.78 2.81-2.81c.8-.78.8-2.07 0-2.86zM5.41 20L4 18.59l7.72-7.72 1.47 1.35L5.41 20z\"/>\n",
              "  </svg>\n",
              "      </button>\n",
              "      \n",
              "  <style>\n",
              "    .colab-df-container {\n",
              "      display:flex;\n",
              "      flex-wrap:wrap;\n",
              "      gap: 12px;\n",
              "    }\n",
              "\n",
              "    .colab-df-convert {\n",
              "      background-color: #E8F0FE;\n",
              "      border: none;\n",
              "      border-radius: 50%;\n",
              "      cursor: pointer;\n",
              "      display: none;\n",
              "      fill: #1967D2;\n",
              "      height: 32px;\n",
              "      padding: 0 0 0 0;\n",
              "      width: 32px;\n",
              "    }\n",
              "\n",
              "    .colab-df-convert:hover {\n",
              "      background-color: #E2EBFA;\n",
              "      box-shadow: 0px 1px 2px rgba(60, 64, 67, 0.3), 0px 1px 3px 1px rgba(60, 64, 67, 0.15);\n",
              "      fill: #174EA6;\n",
              "    }\n",
              "\n",
              "    [theme=dark] .colab-df-convert {\n",
              "      background-color: #3B4455;\n",
              "      fill: #D2E3FC;\n",
              "    }\n",
              "\n",
              "    [theme=dark] .colab-df-convert:hover {\n",
              "      background-color: #434B5C;\n",
              "      box-shadow: 0px 1px 3px 1px rgba(0, 0, 0, 0.15);\n",
              "      filter: drop-shadow(0px 1px 2px rgba(0, 0, 0, 0.3));\n",
              "      fill: #FFFFFF;\n",
              "    }\n",
              "  </style>\n",
              "\n",
              "      <script>\n",
              "        const buttonEl =\n",
              "          document.querySelector('#df-dd52d9aa-2893-481f-9388-765de8b2b07e button.colab-df-convert');\n",
              "        buttonEl.style.display =\n",
              "          google.colab.kernel.accessAllowed ? 'block' : 'none';\n",
              "\n",
              "        async function convertToInteractive(key) {\n",
              "          const element = document.querySelector('#df-dd52d9aa-2893-481f-9388-765de8b2b07e');\n",
              "          const dataTable =\n",
              "            await google.colab.kernel.invokeFunction('convertToInteractive',\n",
              "                                                     [key], {});\n",
              "          if (!dataTable) return;\n",
              "\n",
              "          const docLinkHtml = 'Like what you see? Visit the ' +\n",
              "            '<a target=\"_blank\" href=https://colab.research.google.com/notebooks/data_table.ipynb>data table notebook</a>'\n",
              "            + ' to learn more about interactive tables.';\n",
              "          element.innerHTML = '';\n",
              "          dataTable['output_type'] = 'display_data';\n",
              "          await google.colab.output.renderOutput(dataTable, element);\n",
              "          const docLink = document.createElement('div');\n",
              "          docLink.innerHTML = docLinkHtml;\n",
              "          element.appendChild(docLink);\n",
              "        }\n",
              "      </script>\n",
              "    </div>\n",
              "  </div>\n",
              "  "
            ]
          },
          "metadata": {},
          "execution_count": 46
        }
      ]
    }
  ]
}